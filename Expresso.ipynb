{
 "cells": [
  {
   "cell_type": "code",
   "execution_count": 1,
   "metadata": {},
   "outputs": [],
   "source": [
    "import warnings\n",
    "warnings.filterwarnings('ignore')\n",
    "from IPython.core.interactiveshell import InteractiveShell\n",
    "InteractiveShell.ast_node_interactivity = \"all\""
   ]
  },
  {
   "cell_type": "markdown",
   "metadata": {},
   "source": [
    "##### Importing Relevant Packages"
   ]
  },
  {
   "cell_type": "code",
   "execution_count": 2,
   "metadata": {},
   "outputs": [],
   "source": [
    "import pandas as pd\n",
    "from sklearn.impute import SimpleImputer\n",
    "import numpy as np\n",
    "from sklearn.cluster import KMeans\n",
    "from catboost import CatBoostClassifier\n",
    "from xgboost import XGBClassifier\n",
    "from sklearn.metrics import log_loss\n",
    "from sklearn.preprocessing import StandardScaler\n",
    "from sklearn.model_selection import train_test_split, KFold,StratifiedKFold\n",
    "import re"
   ]
  },
  {
   "cell_type": "code",
   "execution_count": 3,
   "metadata": {},
   "outputs": [],
   "source": [
    "# load datasets\n",
    "train = pd.read_csv(\"Train.csv\")\n",
    "test  = pd.read_csv(\"Test.csv\")\n",
    "sample  = pd.read_csv(\"sample_submission.csv\")\n",
    "var = pd.read_csv('VariableDefinitions.csv')"
   ]
  },
  {
   "cell_type": "code",
   "execution_count": 5,
   "metadata": {
    "scrolled": true
   },
   "outputs": [
    {
     "data": {
      "text/html": [
       "<div>\n",
       "<style scoped>\n",
       "    .dataframe tbody tr th:only-of-type {\n",
       "        vertical-align: middle;\n",
       "    }\n",
       "\n",
       "    .dataframe tbody tr th {\n",
       "        vertical-align: top;\n",
       "    }\n",
       "\n",
       "    .dataframe thead th {\n",
       "        text-align: right;\n",
       "    }\n",
       "</style>\n",
       "<table border=\"1\" class=\"dataframe\">\n",
       "  <thead>\n",
       "    <tr style=\"text-align: right;\">\n",
       "      <th></th>\n",
       "      <th>user_id</th>\n",
       "      <th>REGION</th>\n",
       "      <th>TENURE</th>\n",
       "      <th>MONTANT</th>\n",
       "      <th>FREQUENCE_RECH</th>\n",
       "      <th>REVENUE</th>\n",
       "      <th>ARPU_SEGMENT</th>\n",
       "      <th>FREQUENCE</th>\n",
       "      <th>DATA_VOLUME</th>\n",
       "      <th>ON_NET</th>\n",
       "      <th>ORANGE</th>\n",
       "      <th>TIGO</th>\n",
       "      <th>ZONE1</th>\n",
       "      <th>ZONE2</th>\n",
       "      <th>MRG</th>\n",
       "      <th>REGULARITY</th>\n",
       "      <th>TOP_PACK</th>\n",
       "      <th>FREQ_TOP_PACK</th>\n",
       "      <th>CHURN</th>\n",
       "    </tr>\n",
       "  </thead>\n",
       "  <tbody>\n",
       "    <tr>\n",
       "      <th>0</th>\n",
       "      <td>dcf68cc2fb515ccad7d8b9b3bd80ee2a4b270063</td>\n",
       "      <td>SAINT-LOUIS</td>\n",
       "      <td>K &gt; 24 month</td>\n",
       "      <td>17000.0</td>\n",
       "      <td>32.0</td>\n",
       "      <td>18000.0</td>\n",
       "      <td>6000.0</td>\n",
       "      <td>34.0</td>\n",
       "      <td>NaN</td>\n",
       "      <td>97.0</td>\n",
       "      <td>355.0</td>\n",
       "      <td>6.0</td>\n",
       "      <td>NaN</td>\n",
       "      <td>NaN</td>\n",
       "      <td>NO</td>\n",
       "      <td>62</td>\n",
       "      <td>All-net 500F=2000F;5d</td>\n",
       "      <td>35.0</td>\n",
       "      <td>0</td>\n",
       "    </tr>\n",
       "    <tr>\n",
       "      <th>1</th>\n",
       "      <td>71c44b5ba328db5c4192a80f7cf8f244d9350ed0</td>\n",
       "      <td>NaN</td>\n",
       "      <td>K &gt; 24 month</td>\n",
       "      <td>4300.0</td>\n",
       "      <td>29.0</td>\n",
       "      <td>4427.0</td>\n",
       "      <td>1476.0</td>\n",
       "      <td>37.0</td>\n",
       "      <td>1764.0</td>\n",
       "      <td>8.0</td>\n",
       "      <td>3.0</td>\n",
       "      <td>0.0</td>\n",
       "      <td>NaN</td>\n",
       "      <td>2.0</td>\n",
       "      <td>NO</td>\n",
       "      <td>40</td>\n",
       "      <td>Data: 100 F=40MB,24H</td>\n",
       "      <td>22.0</td>\n",
       "      <td>0</td>\n",
       "    </tr>\n",
       "  </tbody>\n",
       "</table>\n",
       "</div>"
      ],
      "text/plain": [
       "                                    user_id       REGION        TENURE  \\\n",
       "0  dcf68cc2fb515ccad7d8b9b3bd80ee2a4b270063  SAINT-LOUIS  K > 24 month   \n",
       "1  71c44b5ba328db5c4192a80f7cf8f244d9350ed0          NaN  K > 24 month   \n",
       "\n",
       "   MONTANT  FREQUENCE_RECH  REVENUE  ARPU_SEGMENT  FREQUENCE  DATA_VOLUME  \\\n",
       "0  17000.0            32.0  18000.0        6000.0       34.0          NaN   \n",
       "1   4300.0            29.0   4427.0        1476.0       37.0       1764.0   \n",
       "\n",
       "   ON_NET  ORANGE  TIGO  ZONE1  ZONE2 MRG  REGULARITY               TOP_PACK  \\\n",
       "0    97.0   355.0   6.0    NaN    NaN  NO          62  All-net 500F=2000F;5d   \n",
       "1     8.0     3.0   0.0    NaN    2.0  NO          40   Data: 100 F=40MB,24H   \n",
       "\n",
       "   FREQ_TOP_PACK  CHURN  \n",
       "0           35.0      0  \n",
       "1           22.0      0  "
      ]
     },
     "execution_count": 5,
     "metadata": {},
     "output_type": "execute_result"
    },
    {
     "data": {
      "text/plain": [
       "(400000, 19)"
      ]
     },
     "execution_count": 5,
     "metadata": {},
     "output_type": "execute_result"
    }
   ],
   "source": [
    "train.head(2)\n",
    "train.shape"
   ]
  },
  {
   "cell_type": "markdown",
   "metadata": {},
   "source": [
    "##### Feature Engineering"
   ]
  },
  {
   "cell_type": "code",
   "execution_count": 6,
   "metadata": {},
   "outputs": [],
   "source": [
    "useless = ['user_id', 'MRG']"
   ]
  },
  {
   "cell_type": "code",
   "execution_count": 7,
   "metadata": {},
   "outputs": [],
   "source": [
    "train.REGION.fillna('REG',inplace=True)\n",
    "test.REGION.fillna('REG',inplace=True)"
   ]
  },
  {
   "cell_type": "code",
   "execution_count": 8,
   "metadata": {},
   "outputs": [],
   "source": [
    "train.TOP_PACK.fillna('PACK',inplace=True)\n",
    "test.TOP_PACK.fillna('PACK',inplace=True)"
   ]
  },
  {
   "cell_type": "code",
   "execution_count": 9,
   "metadata": {},
   "outputs": [],
   "source": [
    "minus_999999 = ['MONTANT','FREQUENCE_RECH','REVENUE','ARPU_SEGMENT','FREQUENCE','DATA_VOLUME','ON_NET','ORANGE','FREQ_TOP_PACK','TIGO','ZONE1','ZONE2']"
   ]
  },
  {
   "cell_type": "code",
   "execution_count": 10,
   "metadata": {},
   "outputs": [],
   "source": [
    "for col in minus_999999:\n",
    "    train[col].fillna(-99999, inplace=True)\n",
    "    test[col].fillna(-99999, inplace=True)"
   ]
  },
  {
   "cell_type": "code",
   "execution_count": 11,
   "metadata": {},
   "outputs": [],
   "source": [
    "train.drop(columns=[i for i in useless], inplace=True)\n",
    "test.drop(columns=[i for i in useless], inplace=True)"
   ]
  },
  {
   "cell_type": "code",
   "execution_count": 12,
   "metadata": {},
   "outputs": [],
   "source": [
    "data = pd.concat([train,test],axis=0)\n",
    "data = data.reset_index(drop=True)"
   ]
  },
  {
   "cell_type": "code",
   "execution_count": 13,
   "metadata": {
    "scrolled": true
   },
   "outputs": [],
   "source": [
    "def tenure(x):\n",
    "    'function to encode the Tenure based on the lowest amount of month spent'\n",
    "    if x == 'K > 24 month':\n",
    "        return 24\n",
    "    elif x == 'H 15-18 month':\n",
    "        return 15\n",
    "    elif x == 'G 12-15 month':\n",
    "        return 12\n",
    "    elif x == 'J 21-24 month':\n",
    "        return 21\n",
    "    elif x == 'I 18-21 month':\n",
    "        return 18\n",
    "    elif x == 'E 6-9 month':\n",
    "        return 6\n",
    "    elif x == 'F 9-12 month':\n",
    "        return 9\n",
    "    elif x == 'D 3-6 month':\n",
    "        return 3\n",
    "    else:\n",
    "        pass"
   ]
  },
  {
   "cell_type": "code",
   "execution_count": 14,
   "metadata": {},
   "outputs": [],
   "source": [
    "data.TENURE = data.TENURE.apply(tenure)"
   ]
  },
  {
   "cell_type": "code",
   "execution_count": 15,
   "metadata": {},
   "outputs": [],
   "source": [
    "categ = ['REGION','TOP_PACK'] "
   ]
  },
  {
   "cell_type": "code",
   "execution_count": 2,
   "metadata": {},
   "outputs": [
    {
     "data": {
      "text/plain": [
       "(15, 61)"
      ]
     },
     "execution_count": 2,
     "metadata": {},
     "output_type": "execute_result"
    }
   ],
   "source": [
    "len(data.REGION.unique()), len(data.TOP_PACK.unique())"
   ]
  },
  {
   "cell_type": "code",
   "execution_count": 16,
   "metadata": {},
   "outputs": [],
   "source": [
    "data = pd.get_dummies(data, prefix = categ, columns = categ)"
   ]
  },
  {
   "cell_type": "code",
   "execution_count": 17,
   "metadata": {
    "scrolled": false
   },
   "outputs": [
    {
     "data": {
      "text/html": [
       "<div>\n",
       "<style scoped>\n",
       "    .dataframe tbody tr th:only-of-type {\n",
       "        vertical-align: middle;\n",
       "    }\n",
       "\n",
       "    .dataframe tbody tr th {\n",
       "        vertical-align: top;\n",
       "    }\n",
       "\n",
       "    .dataframe thead th {\n",
       "        text-align: right;\n",
       "    }\n",
       "</style>\n",
       "<table border=\"1\" class=\"dataframe\">\n",
       "  <thead>\n",
       "    <tr style=\"text-align: right;\">\n",
       "      <th></th>\n",
       "      <th>TENURE</th>\n",
       "      <th>MONTANT</th>\n",
       "      <th>FREQUENCE_RECH</th>\n",
       "      <th>REVENUE</th>\n",
       "      <th>ARPU_SEGMENT</th>\n",
       "      <th>FREQUENCE</th>\n",
       "      <th>DATA_VOLUME</th>\n",
       "      <th>ON_NET</th>\n",
       "      <th>ORANGE</th>\n",
       "      <th>TIGO</th>\n",
       "      <th>...</th>\n",
       "      <th>TOP_PACK_VAS(IVR_Radio_Monthly)</th>\n",
       "      <th>TOP_PACK_VAS(IVR_Radio_Weekly)</th>\n",
       "      <th>TOP_PACK_WIFI_ Family _10MBPS</th>\n",
       "      <th>TOP_PACK_WIFI_ Family _4MBPS</th>\n",
       "      <th>TOP_PACK_WIFI_Family_2MBPS</th>\n",
       "      <th>TOP_PACK_YMGX 100=1 hour FNF, 24H/1 month</th>\n",
       "      <th>TOP_PACK_Yewouleen_PKG</th>\n",
       "      <th>TOP_PACK_pack_chinguitel_24h</th>\n",
       "      <th>TOP_PACK_pilot_offer5</th>\n",
       "      <th>TOP_PACK_pilot_offer6</th>\n",
       "    </tr>\n",
       "  </thead>\n",
       "  <tbody>\n",
       "    <tr>\n",
       "      <th>0</th>\n",
       "      <td>24</td>\n",
       "      <td>17000.0</td>\n",
       "      <td>32.0</td>\n",
       "      <td>18000.0</td>\n",
       "      <td>6000.0</td>\n",
       "      <td>34.0</td>\n",
       "      <td>-99999.0</td>\n",
       "      <td>97.0</td>\n",
       "      <td>355.0</td>\n",
       "      <td>6.0</td>\n",
       "      <td>...</td>\n",
       "      <td>0</td>\n",
       "      <td>0</td>\n",
       "      <td>0</td>\n",
       "      <td>0</td>\n",
       "      <td>0</td>\n",
       "      <td>0</td>\n",
       "      <td>0</td>\n",
       "      <td>0</td>\n",
       "      <td>0</td>\n",
       "      <td>0</td>\n",
       "    </tr>\n",
       "    <tr>\n",
       "      <th>1</th>\n",
       "      <td>24</td>\n",
       "      <td>4300.0</td>\n",
       "      <td>29.0</td>\n",
       "      <td>4427.0</td>\n",
       "      <td>1476.0</td>\n",
       "      <td>37.0</td>\n",
       "      <td>1764.0</td>\n",
       "      <td>8.0</td>\n",
       "      <td>3.0</td>\n",
       "      <td>0.0</td>\n",
       "      <td>...</td>\n",
       "      <td>0</td>\n",
       "      <td>0</td>\n",
       "      <td>0</td>\n",
       "      <td>0</td>\n",
       "      <td>0</td>\n",
       "      <td>0</td>\n",
       "      <td>0</td>\n",
       "      <td>0</td>\n",
       "      <td>0</td>\n",
       "      <td>0</td>\n",
       "    </tr>\n",
       "    <tr>\n",
       "      <th>2</th>\n",
       "      <td>24</td>\n",
       "      <td>1500.0</td>\n",
       "      <td>3.0</td>\n",
       "      <td>1500.0</td>\n",
       "      <td>500.0</td>\n",
       "      <td>3.0</td>\n",
       "      <td>-99999.0</td>\n",
       "      <td>30.0</td>\n",
       "      <td>30.0</td>\n",
       "      <td>-99999.0</td>\n",
       "      <td>...</td>\n",
       "      <td>0</td>\n",
       "      <td>0</td>\n",
       "      <td>0</td>\n",
       "      <td>0</td>\n",
       "      <td>0</td>\n",
       "      <td>0</td>\n",
       "      <td>0</td>\n",
       "      <td>0</td>\n",
       "      <td>0</td>\n",
       "      <td>0</td>\n",
       "    </tr>\n",
       "  </tbody>\n",
       "</table>\n",
       "<p>3 rows × 143 columns</p>\n",
       "</div>"
      ],
      "text/plain": [
       "   TENURE  MONTANT  FREQUENCE_RECH  REVENUE  ARPU_SEGMENT  FREQUENCE  \\\n",
       "0      24  17000.0            32.0  18000.0        6000.0       34.0   \n",
       "1      24   4300.0            29.0   4427.0        1476.0       37.0   \n",
       "2      24   1500.0             3.0   1500.0         500.0        3.0   \n",
       "\n",
       "   DATA_VOLUME  ON_NET  ORANGE     TIGO  ...  TOP_PACK_VAS(IVR_Radio_Monthly)  \\\n",
       "0     -99999.0    97.0   355.0      6.0  ...                                0   \n",
       "1       1764.0     8.0     3.0      0.0  ...                                0   \n",
       "2     -99999.0    30.0    30.0 -99999.0  ...                                0   \n",
       "\n",
       "   TOP_PACK_VAS(IVR_Radio_Weekly)  TOP_PACK_WIFI_ Family _10MBPS  \\\n",
       "0                               0                              0   \n",
       "1                               0                              0   \n",
       "2                               0                              0   \n",
       "\n",
       "   TOP_PACK_WIFI_ Family _4MBPS  TOP_PACK_WIFI_Family_2MBPS  \\\n",
       "0                             0                           0   \n",
       "1                             0                           0   \n",
       "2                             0                           0   \n",
       "\n",
       "   TOP_PACK_YMGX 100=1 hour FNF, 24H/1 month  TOP_PACK_Yewouleen_PKG  \\\n",
       "0                                          0                       0   \n",
       "1                                          0                       0   \n",
       "2                                          0                       0   \n",
       "\n",
       "   TOP_PACK_pack_chinguitel_24h  TOP_PACK_pilot_offer5  TOP_PACK_pilot_offer6  \n",
       "0                             0                      0                      0  \n",
       "1                             0                      0                      0  \n",
       "2                             0                      0                      0  \n",
       "\n",
       "[3 rows x 143 columns]"
      ]
     },
     "execution_count": 17,
     "metadata": {},
     "output_type": "execute_result"
    }
   ],
   "source": [
    "data.head(3)"
   ]
  },
  {
   "cell_type": "markdown",
   "metadata": {},
   "source": [
    "##### Feature Creation"
   ]
  },
  {
   "cell_type": "code",
   "execution_count": 18,
   "metadata": {},
   "outputs": [],
   "source": [
    "data['income_per_topup_amount'] = data['REVENUE'] / data['MONTANT']\n",
    "data['active_per_duration'] =  data['TENURE'] / data['REGULARITY']\n",
    "data['income_to_amount_ratio'] = data['REVENUE'] / data['MONTANT']\n",
    "data['income_left_after_top_up'] = data['REVENUE'] - data['MONTANT']\n",
    "data['tenure_to_topup_frequency'] = data['TENURE'] / data['FREQUENCE_RECH']\n",
    "data['income_in90days_perRevenue'] = data['ARPU_SEGMENT'] / data['REVENUE'] "
   ]
  },
  {
   "cell_type": "code",
   "execution_count": 19,
   "metadata": {
    "scrolled": true
   },
   "outputs": [],
   "source": [
    "train=data[data.CHURN.notnull()].reset_index(drop=True)\n",
    "test=data[data.CHURN.isna()].reset_index(drop=True)"
   ]
  },
  {
   "cell_type": "code",
   "execution_count": 20,
   "metadata": {},
   "outputs": [],
   "source": [
    "y = train.CHURN\n",
    "train.drop('CHURN', axis=1, inplace=True)\n",
    "test.drop('CHURN', axis=1, inplace=True)"
   ]
  },
  {
   "cell_type": "code",
   "execution_count": 21,
   "metadata": {
    "scrolled": true
   },
   "outputs": [
    {
     "data": {
      "text/html": [
       "<div>\n",
       "<style scoped>\n",
       "    .dataframe tbody tr th:only-of-type {\n",
       "        vertical-align: middle;\n",
       "    }\n",
       "\n",
       "    .dataframe tbody tr th {\n",
       "        vertical-align: top;\n",
       "    }\n",
       "\n",
       "    .dataframe thead th {\n",
       "        text-align: right;\n",
       "    }\n",
       "</style>\n",
       "<table border=\"1\" class=\"dataframe\">\n",
       "  <thead>\n",
       "    <tr style=\"text-align: right;\">\n",
       "      <th></th>\n",
       "      <th>TENURE</th>\n",
       "      <th>MONTANT</th>\n",
       "      <th>FREQUENCE_RECH</th>\n",
       "      <th>REVENUE</th>\n",
       "      <th>ARPU_SEGMENT</th>\n",
       "      <th>FREQUENCE</th>\n",
       "      <th>DATA_VOLUME</th>\n",
       "      <th>ON_NET</th>\n",
       "      <th>ORANGE</th>\n",
       "      <th>TIGO</th>\n",
       "      <th>...</th>\n",
       "      <th>TOP_PACK_Yewouleen_PKG</th>\n",
       "      <th>TOP_PACK_pack_chinguitel_24h</th>\n",
       "      <th>TOP_PACK_pilot_offer5</th>\n",
       "      <th>TOP_PACK_pilot_offer6</th>\n",
       "      <th>income_per_topup_amount</th>\n",
       "      <th>active_per_duration</th>\n",
       "      <th>income_to_amount_ratio</th>\n",
       "      <th>income_left_after_top_up</th>\n",
       "      <th>tenure_to_topup_frequency</th>\n",
       "      <th>income_in90days_perRevenue</th>\n",
       "    </tr>\n",
       "  </thead>\n",
       "  <tbody>\n",
       "    <tr>\n",
       "      <th>0</th>\n",
       "      <td>24</td>\n",
       "      <td>-99999.0</td>\n",
       "      <td>-99999.0</td>\n",
       "      <td>-99999.0</td>\n",
       "      <td>-99999.0</td>\n",
       "      <td>-99999.0</td>\n",
       "      <td>-99999.0</td>\n",
       "      <td>-99999.0</td>\n",
       "      <td>-99999.0</td>\n",
       "      <td>-99999.0</td>\n",
       "      <td>...</td>\n",
       "      <td>0</td>\n",
       "      <td>0</td>\n",
       "      <td>0</td>\n",
       "      <td>0</td>\n",
       "      <td>1.0000</td>\n",
       "      <td>24.0</td>\n",
       "      <td>1.0000</td>\n",
       "      <td>0.0</td>\n",
       "      <td>-0.00024</td>\n",
       "      <td>1.0</td>\n",
       "    </tr>\n",
       "    <tr>\n",
       "      <th>1</th>\n",
       "      <td>24</td>\n",
       "      <td>-99999.0</td>\n",
       "      <td>-99999.0</td>\n",
       "      <td>10.0</td>\n",
       "      <td>3.0</td>\n",
       "      <td>1.0</td>\n",
       "      <td>-99999.0</td>\n",
       "      <td>-99999.0</td>\n",
       "      <td>-99999.0</td>\n",
       "      <td>-99999.0</td>\n",
       "      <td>...</td>\n",
       "      <td>0</td>\n",
       "      <td>0</td>\n",
       "      <td>0</td>\n",
       "      <td>0</td>\n",
       "      <td>-0.0001</td>\n",
       "      <td>12.0</td>\n",
       "      <td>-0.0001</td>\n",
       "      <td>100009.0</td>\n",
       "      <td>-0.00024</td>\n",
       "      <td>0.3</td>\n",
       "    </tr>\n",
       "  </tbody>\n",
       "</table>\n",
       "<p>2 rows × 148 columns</p>\n",
       "</div>"
      ],
      "text/plain": [
       "   TENURE  MONTANT  FREQUENCE_RECH  REVENUE  ARPU_SEGMENT  FREQUENCE  \\\n",
       "0      24 -99999.0        -99999.0 -99999.0      -99999.0   -99999.0   \n",
       "1      24 -99999.0        -99999.0     10.0           3.0        1.0   \n",
       "\n",
       "   DATA_VOLUME   ON_NET   ORANGE     TIGO  ...  TOP_PACK_Yewouleen_PKG  \\\n",
       "0     -99999.0 -99999.0 -99999.0 -99999.0  ...                       0   \n",
       "1     -99999.0 -99999.0 -99999.0 -99999.0  ...                       0   \n",
       "\n",
       "   TOP_PACK_pack_chinguitel_24h  TOP_PACK_pilot_offer5  TOP_PACK_pilot_offer6  \\\n",
       "0                             0                      0                      0   \n",
       "1                             0                      0                      0   \n",
       "\n",
       "   income_per_topup_amount  active_per_duration  income_to_amount_ratio  \\\n",
       "0                   1.0000                 24.0                  1.0000   \n",
       "1                  -0.0001                 12.0                 -0.0001   \n",
       "\n",
       "   income_left_after_top_up  tenure_to_topup_frequency  \\\n",
       "0                       0.0                   -0.00024   \n",
       "1                  100009.0                   -0.00024   \n",
       "\n",
       "   income_in90days_perRevenue  \n",
       "0                         1.0  \n",
       "1                         0.3  \n",
       "\n",
       "[2 rows x 148 columns]"
      ]
     },
     "execution_count": 21,
     "metadata": {},
     "output_type": "execute_result"
    },
    {
     "data": {
      "text/plain": [
       "(400000, 148)"
      ]
     },
     "execution_count": 21,
     "metadata": {},
     "output_type": "execute_result"
    }
   ],
   "source": [
    "test.head(2)\n",
    "train.shape"
   ]
  },
  {
   "cell_type": "code",
   "execution_count": 23,
   "metadata": {},
   "outputs": [
    {
     "data": {
      "text/plain": [
       "0"
      ]
     },
     "execution_count": 23,
     "metadata": {},
     "output_type": "execute_result"
    }
   ],
   "source": [
    "c = [i for i in train.columns if train[i].dtype == object]\n",
    "len(c)"
   ]
  },
  {
   "cell_type": "code",
   "execution_count": 24,
   "metadata": {
    "scrolled": false
   },
   "outputs": [
    {
     "data": {
      "text/plain": [
       "((400000, 148), (400000,), (100000, 148))"
      ]
     },
     "execution_count": 24,
     "metadata": {},
     "output_type": "execute_result"
    }
   ],
   "source": [
    "train.shape, y.shape, test.shape"
   ]
  },
  {
   "cell_type": "markdown",
   "metadata": {},
   "source": [
    "##### NOTE\n",
    "I already did feature selection and correlation to determine what features mattered in predicting customer churn for this dataset. So the clust variable below is not something I randomly chose"
   ]
  },
  {
   "cell_type": "code",
   "execution_count": 25,
   "metadata": {
    "scrolled": false
   },
   "outputs": [],
   "source": [
    "clust = [\n",
    "'REVENUE',\n",
    "'MONTANT',\n",
    "'FREQUENCE_RECH',\n",
    "'ARPU_SEGMENT',\n",
    "'FREQUENCE',\n",
    "'ON_NET',\n",
    "'ORANGE',\n",
    "'REGULARITY',\n",
    "'FREQ_TOP_PACK',\n",
    "'REGION_REG',\n",
    "'TOP_PACK_PACK']"
   ]
  },
  {
   "cell_type": "markdown",
   "metadata": {},
   "source": [
    "The cell below is quite computationally expensive and should only be run if you're interested in seeing the plots I used in determining the optimal k values, using the elbow method, also most k values i got were 2."
   ]
  },
  {
   "cell_type": "code",
   "execution_count": 26,
   "metadata": {},
   "outputs": [],
   "source": [
    "# for j in clust:\n",
    "#     distortions = []\n",
    "#     if train[j].dtype == object:\n",
    "#         dummies = pd.get_dummies(train[j], drop_first=True)\n",
    "#         for i in range(1, 11):\n",
    "#             km = KMeans(\n",
    "#                 n_clusters=i, init='k-means++',\n",
    "#                 n_init=20, max_iter=300,\n",
    "#                 tol=1e-04, random_state=0\n",
    "#             )\n",
    "#             km.fit(dummies)\n",
    "#             distortions.append(km.inertia_)\n",
    "\n",
    "#         # plot\n",
    "#         print(j, km.inertia_)\n",
    "#         plt.plot(range(1, 11), distortions, marker='o')\n",
    "#         plt.xlabel('Number of clusters')\n",
    "#         plt.ylabel('Distortion')\n",
    "#         plt.show()\n",
    "    \n",
    "#     else:\n",
    "#         for i in range(1, 11):\n",
    "#             km = KMeans(\n",
    "#                 n_clusters=i, init='k-means++',\n",
    "#                 n_init=20, max_iter=300,\n",
    "#                 tol=1e-04, random_state=0\n",
    "#             )\n",
    "#             km.fit(pd.DataFrame(train[j]))\n",
    "#             distortions.append(km.inertia_)\n",
    "\n",
    "#         # plot\n",
    "\n",
    "#         print(j, km.inertia_)\n",
    "#         plt.plot(range(1, 11), distortions, marker='o')\n",
    "#         plt.xlabel('Number of clusters')\n",
    "#         plt.ylabel('Distortion')\n",
    "#         plt.show()"
   ]
  },
  {
   "cell_type": "code",
   "execution_count": 27,
   "metadata": {},
   "outputs": [],
   "source": [
    "kmeans = KMeans(\n",
    "        n_clusters=2, init='k-means++',\n",
    "        n_init=20, max_iter=300,\n",
    "        tol=1e-04, random_state=0\n",
    "    )"
   ]
  },
  {
   "cell_type": "code",
   "execution_count": 28,
   "metadata": {
    "scrolled": true
   },
   "outputs": [
    {
     "data": {
      "text/plain": [
       "KMeans(n_clusters=2, n_init=20, random_state=0)"
      ]
     },
     "execution_count": 28,
     "metadata": {},
     "output_type": "execute_result"
    },
    {
     "data": {
      "text/plain": [
       "KMeans(n_clusters=2, n_init=20, random_state=0)"
      ]
     },
     "execution_count": 28,
     "metadata": {},
     "output_type": "execute_result"
    },
    {
     "data": {
      "text/plain": [
       "KMeans(n_clusters=2, n_init=20, random_state=0)"
      ]
     },
     "execution_count": 28,
     "metadata": {},
     "output_type": "execute_result"
    },
    {
     "data": {
      "text/plain": [
       "KMeans(n_clusters=2, n_init=20, random_state=0)"
      ]
     },
     "execution_count": 28,
     "metadata": {},
     "output_type": "execute_result"
    },
    {
     "data": {
      "text/plain": [
       "KMeans(n_clusters=2, n_init=20, random_state=0)"
      ]
     },
     "execution_count": 28,
     "metadata": {},
     "output_type": "execute_result"
    },
    {
     "data": {
      "text/plain": [
       "KMeans(n_clusters=2, n_init=20, random_state=0)"
      ]
     },
     "execution_count": 28,
     "metadata": {},
     "output_type": "execute_result"
    },
    {
     "data": {
      "text/plain": [
       "KMeans(n_clusters=2, n_init=20, random_state=0)"
      ]
     },
     "execution_count": 28,
     "metadata": {},
     "output_type": "execute_result"
    },
    {
     "data": {
      "text/plain": [
       "KMeans(n_clusters=2, n_init=20, random_state=0)"
      ]
     },
     "execution_count": 28,
     "metadata": {},
     "output_type": "execute_result"
    },
    {
     "data": {
      "text/plain": [
       "KMeans(n_clusters=2, n_init=20, random_state=0)"
      ]
     },
     "execution_count": 28,
     "metadata": {},
     "output_type": "execute_result"
    },
    {
     "data": {
      "text/plain": [
       "KMeans(n_clusters=2, n_init=20, random_state=0)"
      ]
     },
     "execution_count": 28,
     "metadata": {},
     "output_type": "execute_result"
    },
    {
     "data": {
      "text/plain": [
       "KMeans(n_clusters=2, n_init=20, random_state=0)"
      ]
     },
     "execution_count": 28,
     "metadata": {},
     "output_type": "execute_result"
    }
   ],
   "source": [
    "%%capture #To avoid clumsy cell output\n",
    "\n",
    "for col in clust:\n",
    "    if train[col].dtype == object:\n",
    "        dummies = pd.get_dummies(train[col], drop_first=True)\n",
    "        test_dum = pd.get_dummies(test[col], drop_first=True)\n",
    "        kmeans.fit(dummies)\n",
    "        train[col+'_grouped'] = kmeans.labels_\n",
    "        test[col+'_grouped'] = kmeans.predict(test_dum)\n",
    "    else:\n",
    "        kmeans.fit(pd.DataFrame(train[col]))\n",
    "        train[col+'_grouped'] = kmeans.labels_\n",
    "        test[col+'_grouped'] = kmeans.predict(pd.DataFrame(test[col]))"
   ]
  },
  {
   "cell_type": "code",
   "execution_count": 29,
   "metadata": {},
   "outputs": [
    {
     "data": {
      "text/plain": [
       "((400000, 159), (100000, 159))"
      ]
     },
     "execution_count": 29,
     "metadata": {},
     "output_type": "execute_result"
    }
   ],
   "source": [
    "train.shape, test.shape"
   ]
  },
  {
   "cell_type": "code",
   "execution_count": 38,
   "metadata": {},
   "outputs": [],
   "source": [
    "del data"
   ]
  },
  {
   "cell_type": "code",
   "execution_count": 40,
   "metadata": {},
   "outputs": [
    {
     "data": {
      "text/plain": [
       "0"
      ]
     },
     "execution_count": 40,
     "metadata": {},
     "output_type": "execute_result"
    }
   ],
   "source": [
    "sum(train.isna().sum())"
   ]
  },
  {
   "cell_type": "markdown",
   "metadata": {},
   "source": [
    "The cell below is quite computationally expensive and should only be run if you're interested in seeing the plots I used in determining the optimal k values, using the elbow method, also most k values i got were 2."
   ]
  },
  {
   "cell_type": "code",
   "execution_count": 3,
   "metadata": {},
   "outputs": [],
   "source": [
    "# distortions = []\n",
    "# for i in range(1, 11):\n",
    "#     km = KMeans(\n",
    "#         n_clusters=i, init='k-means++',\n",
    "#         n_init=20, max_iter=300,\n",
    "#         tol=1e-04, random_state=0\n",
    "#     )\n",
    "#     km.fit(pd.DataFrame(train))\n",
    "#     distortions.append(km.inertia_)\n",
    "\n",
    "# # plot\n",
    "# plt.plot(range(1, 11), distortions, marker='o')\n",
    "# plt.xlabel('Number of clusters')\n",
    "# plt.ylabel('Distortion')\n",
    "# plt.show()"
   ]
  },
  {
   "cell_type": "code",
   "execution_count": 42,
   "metadata": {},
   "outputs": [],
   "source": [
    "km = KMeans(\n",
    "        n_clusters=2, init='k-means++',\n",
    "        n_init=20, max_iter=300,\n",
    "        tol=1e-04, random_state=0\n",
    "    )"
   ]
  },
  {
   "cell_type": "code",
   "execution_count": 43,
   "metadata": {},
   "outputs": [
    {
     "data": {
      "text/plain": [
       "KMeans(n_clusters=2, n_init=20, random_state=0)"
      ]
     },
     "execution_count": 43,
     "metadata": {},
     "output_type": "execute_result"
    }
   ],
   "source": [
    "km.fit(train)"
   ]
  },
  {
   "cell_type": "code",
   "execution_count": 44,
   "metadata": {},
   "outputs": [],
   "source": [
    "train['groups'] = km.labels_\n",
    "test['groups'] = km.predict(test)"
   ]
  },
  {
   "cell_type": "code",
   "execution_count": 45,
   "metadata": {
    "scrolled": true
   },
   "outputs": [
    {
     "data": {
      "text/plain": [
       "((400000, 160), (400000,), (100000, 160))"
      ]
     },
     "execution_count": 45,
     "metadata": {},
     "output_type": "execute_result"
    }
   ],
   "source": [
    "train.shape, y.shape, test.shape"
   ]
  },
  {
   "cell_type": "code",
   "execution_count": 46,
   "metadata": {
    "scrolled": false
   },
   "outputs": [
    {
     "data": {
      "text/html": [
       "<div>\n",
       "<style scoped>\n",
       "    .dataframe tbody tr th:only-of-type {\n",
       "        vertical-align: middle;\n",
       "    }\n",
       "\n",
       "    .dataframe tbody tr th {\n",
       "        vertical-align: top;\n",
       "    }\n",
       "\n",
       "    .dataframe thead th {\n",
       "        text-align: right;\n",
       "    }\n",
       "</style>\n",
       "<table border=\"1\" class=\"dataframe\">\n",
       "  <thead>\n",
       "    <tr style=\"text-align: right;\">\n",
       "      <th></th>\n",
       "      <th>TENURE</th>\n",
       "      <th>MONTANT</th>\n",
       "      <th>FREQUENCE_RECH</th>\n",
       "      <th>REVENUE</th>\n",
       "      <th>ARPU_SEGMENT</th>\n",
       "      <th>FREQUENCE</th>\n",
       "      <th>DATA_VOLUME</th>\n",
       "      <th>ON_NET</th>\n",
       "      <th>ORANGE</th>\n",
       "      <th>TIGO</th>\n",
       "      <th>...</th>\n",
       "      <th>FREQUENCE_RECH_grouped</th>\n",
       "      <th>ARPU_SEGMENT_grouped</th>\n",
       "      <th>FREQUENCE_grouped</th>\n",
       "      <th>ON_NET_grouped</th>\n",
       "      <th>ORANGE_grouped</th>\n",
       "      <th>REGULARITY_grouped</th>\n",
       "      <th>FREQ_TOP_PACK_grouped</th>\n",
       "      <th>REGION_REG_grouped</th>\n",
       "      <th>TOP_PACK_PACK_grouped</th>\n",
       "      <th>groups</th>\n",
       "    </tr>\n",
       "  </thead>\n",
       "  <tbody>\n",
       "    <tr>\n",
       "      <th>0</th>\n",
       "      <td>24</td>\n",
       "      <td>17000.0</td>\n",
       "      <td>32.0</td>\n",
       "      <td>18000.0</td>\n",
       "      <td>6000.0</td>\n",
       "      <td>34.0</td>\n",
       "      <td>-99999.0</td>\n",
       "      <td>97.0</td>\n",
       "      <td>355.0</td>\n",
       "      <td>6.0</td>\n",
       "      <td>...</td>\n",
       "      <td>1</td>\n",
       "      <td>1</td>\n",
       "      <td>0</td>\n",
       "      <td>0</td>\n",
       "      <td>0</td>\n",
       "      <td>1</td>\n",
       "      <td>0</td>\n",
       "      <td>1</td>\n",
       "      <td>1</td>\n",
       "      <td>0</td>\n",
       "    </tr>\n",
       "    <tr>\n",
       "      <th>1</th>\n",
       "      <td>24</td>\n",
       "      <td>4300.0</td>\n",
       "      <td>29.0</td>\n",
       "      <td>4427.0</td>\n",
       "      <td>1476.0</td>\n",
       "      <td>37.0</td>\n",
       "      <td>1764.0</td>\n",
       "      <td>8.0</td>\n",
       "      <td>3.0</td>\n",
       "      <td>0.0</td>\n",
       "      <td>...</td>\n",
       "      <td>1</td>\n",
       "      <td>1</td>\n",
       "      <td>0</td>\n",
       "      <td>0</td>\n",
       "      <td>0</td>\n",
       "      <td>1</td>\n",
       "      <td>0</td>\n",
       "      <td>0</td>\n",
       "      <td>1</td>\n",
       "      <td>0</td>\n",
       "    </tr>\n",
       "    <tr>\n",
       "      <th>2</th>\n",
       "      <td>24</td>\n",
       "      <td>1500.0</td>\n",
       "      <td>3.0</td>\n",
       "      <td>1500.0</td>\n",
       "      <td>500.0</td>\n",
       "      <td>3.0</td>\n",
       "      <td>-99999.0</td>\n",
       "      <td>30.0</td>\n",
       "      <td>30.0</td>\n",
       "      <td>-99999.0</td>\n",
       "      <td>...</td>\n",
       "      <td>1</td>\n",
       "      <td>1</td>\n",
       "      <td>0</td>\n",
       "      <td>0</td>\n",
       "      <td>0</td>\n",
       "      <td>1</td>\n",
       "      <td>0</td>\n",
       "      <td>1</td>\n",
       "      <td>1</td>\n",
       "      <td>0</td>\n",
       "    </tr>\n",
       "  </tbody>\n",
       "</table>\n",
       "<p>3 rows × 160 columns</p>\n",
       "</div>"
      ],
      "text/plain": [
       "   TENURE  MONTANT  FREQUENCE_RECH  REVENUE  ARPU_SEGMENT  FREQUENCE  \\\n",
       "0      24  17000.0            32.0  18000.0        6000.0       34.0   \n",
       "1      24   4300.0            29.0   4427.0        1476.0       37.0   \n",
       "2      24   1500.0             3.0   1500.0         500.0        3.0   \n",
       "\n",
       "   DATA_VOLUME  ON_NET  ORANGE     TIGO  ...  FREQUENCE_RECH_grouped  \\\n",
       "0     -99999.0    97.0   355.0      6.0  ...                       1   \n",
       "1       1764.0     8.0     3.0      0.0  ...                       1   \n",
       "2     -99999.0    30.0    30.0 -99999.0  ...                       1   \n",
       "\n",
       "   ARPU_SEGMENT_grouped  FREQUENCE_grouped  ON_NET_grouped  ORANGE_grouped  \\\n",
       "0                     1                  0               0               0   \n",
       "1                     1                  0               0               0   \n",
       "2                     1                  0               0               0   \n",
       "\n",
       "   REGULARITY_grouped  FREQ_TOP_PACK_grouped  REGION_REG_grouped  \\\n",
       "0                   1                      0                   1   \n",
       "1                   1                      0                   0   \n",
       "2                   1                      0                   1   \n",
       "\n",
       "   TOP_PACK_PACK_grouped  groups  \n",
       "0                      1       0  \n",
       "1                      1       0  \n",
       "2                      1       0  \n",
       "\n",
       "[3 rows x 160 columns]"
      ]
     },
     "execution_count": 46,
     "metadata": {},
     "output_type": "execute_result"
    }
   ],
   "source": [
    "train.head(3)"
   ]
  },
  {
   "cell_type": "markdown",
   "metadata": {},
   "source": [
    "##### Local Validation"
   ]
  },
  {
   "cell_type": "code",
   "execution_count": 47,
   "metadata": {},
   "outputs": [],
   "source": [
    "X_1, X_2, y_1, y_2 = train_test_split(train, y, test_size = 0.01, random_state = 0)"
   ]
  },
  {
   "cell_type": "code",
   "execution_count": 48,
   "metadata": {},
   "outputs": [],
   "source": [
    "X_3, X_4, y_3, y_4 = train_test_split(X_2, y_2, test_size = 0.1, random_state = 0)"
   ]
  },
  {
   "cell_type": "code",
   "execution_count": 49,
   "metadata": {},
   "outputs": [
    {
     "data": {
      "text/plain": [
       "((3600, 160), (3600,))"
      ]
     },
     "execution_count": 49,
     "metadata": {},
     "output_type": "execute_result"
    }
   ],
   "source": [
    "X_3.shape, y_3.shape"
   ]
  },
  {
   "cell_type": "code",
   "execution_count": null,
   "metadata": {},
   "outputs": [],
   "source": [
    "val_model = CatBoostClassifier(random_seed = 10, n_estimators = 1000)"
   ]
  },
  {
   "cell_type": "code",
   "execution_count": null,
   "metadata": {},
   "outputs": [],
   "source": [
    "val_model.fit(X_3, y_3)"
   ]
  },
  {
   "cell_type": "code",
   "execution_count": null,
   "metadata": {},
   "outputs": [],
   "source": [
    "val_pred = val_model.predict_proba(X_4)[:, 1]"
   ]
  },
  {
   "cell_type": "code",
   "execution_count": 80,
   "metadata": {},
   "outputs": [
    {
     "data": {
      "text/plain": [
       "0.2631137325635713"
      ]
     },
     "execution_count": 80,
     "metadata": {},
     "output_type": "execute_result"
    }
   ],
   "source": [
    "log_loss(y_4, val_pred)"
   ]
  },
  {
   "cell_type": "code",
   "execution_count": 52,
   "metadata": {},
   "outputs": [
    {
     "data": {
      "text/plain": [
       "0.26259819218504604"
      ]
     },
     "execution_count": 52,
     "metadata": {},
     "output_type": "execute_result"
    }
   ],
   "source": [
    "log_loss(y_4, val_pred)"
   ]
  },
  {
   "cell_type": "code",
   "execution_count": 66,
   "metadata": {},
   "outputs": [
    {
     "data": {
      "text/plain": [
       "0.2568614664247297"
      ]
     },
     "execution_count": 66,
     "metadata": {},
     "output_type": "execute_result"
    }
   ],
   "source": [
    "log_loss(y_4, val_pred)"
   ]
  },
  {
   "cell_type": "code",
   "execution_count": null,
   "metadata": {},
   "outputs": [],
   "source": [
    "log_loss(y_4, val_pred)"
   ]
  },
  {
   "cell_type": "markdown",
   "metadata": {},
   "source": [
    "Local CV log_loss score of about 0.255 seems okay, but caution is that it's just a very sample from our dataset."
   ]
  },
  {
   "cell_type": "markdown",
   "metadata": {},
   "source": [
    "##### Model Training"
   ]
  },
  {
   "cell_type": "markdown",
   "metadata": {},
   "source": [
    "- Models I used in making my preddictions are catboost and xgboost"
   ]
  },
  {
   "cell_type": "code",
   "execution_count": 50,
   "metadata": {},
   "outputs": [],
   "source": [
    "train.rename(columns = lambda x:re.sub('[^A-Za-z0-9_]+', '', x), inplace=True)\n",
    "test.rename(columns = lambda x:re.sub('[^A-Za-z0-9_]+', '', x), inplace=True)\n",
    "\n",
    "### I'm renaming the columns because Lightgbm(LGBM) model would give an error saying it can't accept JSON as column names."
   ]
  },
  {
   "cell_type": "code",
   "execution_count": 84,
   "metadata": {},
   "outputs": [
    {
     "data": {
      "text/html": [
       "<div>\n",
       "<style scoped>\n",
       "    .dataframe tbody tr th:only-of-type {\n",
       "        vertical-align: middle;\n",
       "    }\n",
       "\n",
       "    .dataframe tbody tr th {\n",
       "        vertical-align: top;\n",
       "    }\n",
       "\n",
       "    .dataframe thead th {\n",
       "        text-align: right;\n",
       "    }\n",
       "</style>\n",
       "<table border=\"1\" class=\"dataframe\">\n",
       "  <thead>\n",
       "    <tr style=\"text-align: right;\">\n",
       "      <th></th>\n",
       "      <th>TENURE</th>\n",
       "      <th>MONTANT</th>\n",
       "      <th>FREQUENCE_RECH</th>\n",
       "      <th>REVENUE</th>\n",
       "      <th>ARPU_SEGMENT</th>\n",
       "      <th>FREQUENCE</th>\n",
       "      <th>DATA_VOLUME</th>\n",
       "      <th>ON_NET</th>\n",
       "      <th>ORANGE</th>\n",
       "      <th>TIGO</th>\n",
       "      <th>...</th>\n",
       "      <th>FREQUENCE_RECH_grouped</th>\n",
       "      <th>ARPU_SEGMENT_grouped</th>\n",
       "      <th>FREQUENCE_grouped</th>\n",
       "      <th>ON_NET_grouped</th>\n",
       "      <th>ORANGE_grouped</th>\n",
       "      <th>REGULARITY_grouped</th>\n",
       "      <th>FREQ_TOP_PACK_grouped</th>\n",
       "      <th>REGION_REG_grouped</th>\n",
       "      <th>TOP_PACK_PACK_grouped</th>\n",
       "      <th>groups</th>\n",
       "    </tr>\n",
       "  </thead>\n",
       "  <tbody>\n",
       "    <tr>\n",
       "      <th>0</th>\n",
       "      <td>24</td>\n",
       "      <td>17000.0</td>\n",
       "      <td>32.0</td>\n",
       "      <td>18000.0</td>\n",
       "      <td>6000.0</td>\n",
       "      <td>34.0</td>\n",
       "      <td>-99999.0</td>\n",
       "      <td>97.0</td>\n",
       "      <td>355.0</td>\n",
       "      <td>6.0</td>\n",
       "      <td>...</td>\n",
       "      <td>1</td>\n",
       "      <td>1</td>\n",
       "      <td>0</td>\n",
       "      <td>0</td>\n",
       "      <td>0</td>\n",
       "      <td>1</td>\n",
       "      <td>0</td>\n",
       "      <td>1</td>\n",
       "      <td>1</td>\n",
       "      <td>0</td>\n",
       "    </tr>\n",
       "    <tr>\n",
       "      <th>1</th>\n",
       "      <td>24</td>\n",
       "      <td>4300.0</td>\n",
       "      <td>29.0</td>\n",
       "      <td>4427.0</td>\n",
       "      <td>1476.0</td>\n",
       "      <td>37.0</td>\n",
       "      <td>1764.0</td>\n",
       "      <td>8.0</td>\n",
       "      <td>3.0</td>\n",
       "      <td>0.0</td>\n",
       "      <td>...</td>\n",
       "      <td>1</td>\n",
       "      <td>1</td>\n",
       "      <td>0</td>\n",
       "      <td>0</td>\n",
       "      <td>0</td>\n",
       "      <td>1</td>\n",
       "      <td>0</td>\n",
       "      <td>0</td>\n",
       "      <td>1</td>\n",
       "      <td>0</td>\n",
       "    </tr>\n",
       "  </tbody>\n",
       "</table>\n",
       "<p>2 rows × 160 columns</p>\n",
       "</div>"
      ],
      "text/plain": [
       "   TENURE  MONTANT  FREQUENCE_RECH  REVENUE  ARPU_SEGMENT  FREQUENCE  \\\n",
       "0      24  17000.0            32.0  18000.0        6000.0       34.0   \n",
       "1      24   4300.0            29.0   4427.0        1476.0       37.0   \n",
       "\n",
       "   DATA_VOLUME  ON_NET  ORANGE  TIGO  ...  FREQUENCE_RECH_grouped  \\\n",
       "0     -99999.0    97.0   355.0   6.0  ...                       1   \n",
       "1       1764.0     8.0     3.0   0.0  ...                       1   \n",
       "\n",
       "   ARPU_SEGMENT_grouped  FREQUENCE_grouped  ON_NET_grouped  ORANGE_grouped  \\\n",
       "0                     1                  0               0               0   \n",
       "1                     1                  0               0               0   \n",
       "\n",
       "   REGULARITY_grouped  FREQ_TOP_PACK_grouped  REGION_REG_grouped  \\\n",
       "0                   1                      0                   1   \n",
       "1                   1                      0                   0   \n",
       "\n",
       "   TOP_PACK_PACK_grouped  groups  \n",
       "0                      1       0  \n",
       "1                      1       0  \n",
       "\n",
       "[2 rows x 160 columns]"
      ]
     },
     "execution_count": 84,
     "metadata": {},
     "output_type": "execute_result"
    }
   ],
   "source": [
    "train.head(2)"
   ]
  },
  {
   "cell_type": "markdown",
   "metadata": {},
   "source": [
    "25-KFold Catboost model"
   ]
  },
  {
   "cell_type": "code",
   "execution_count": 85,
   "metadata": {},
   "outputs": [
    {
     "data": {
      "text/plain": [
       "((400000, 160), (100000, 160), (400000,))"
      ]
     },
     "execution_count": 85,
     "metadata": {},
     "output_type": "execute_result"
    }
   ],
   "source": [
    "train.shape, test.shape, y.shape"
   ]
  },
  {
   "cell_type": "code",
   "execution_count": 88,
   "metadata": {},
   "outputs": [
    {
     "name": "stdout",
     "output_type": "stream",
     "text": [
      "1 iter\n",
      "Learning rate set to 0.137797\n",
      "0:\tlearn: 0.5031452\ttest: 0.5031452\ttest1: 0.5022872\tbest: 0.5022872 (0)\ttotal: 172ms\tremaining: 2m 51s\n",
      "100:\tlearn: 0.2509054\ttest: 0.2509054\ttest1: 0.2480670\tbest: 0.2480670 (100)\ttotal: 16.3s\tremaining: 2m 25s\n",
      "200:\tlearn: 0.2491595\ttest: 0.2491595\ttest1: 0.2477578\tbest: 0.2477556 (194)\ttotal: 30.8s\tremaining: 2m 2s\n",
      "300:\tlearn: 0.2477787\ttest: 0.2477787\ttest1: 0.2478270\tbest: 0.2476115 (216)\ttotal: 50.5s\tremaining: 1m 57s\n",
      "Stopped by overfitting detector  (100 iterations wait)\n",
      "\n",
      "bestTest = 0.2476115411\n",
      "bestIteration = 216\n",
      "\n",
      "Shrink model to first 217 iterations.\n"
     ]
    },
    {
     "data": {
      "text/plain": [
       "<catboost.core.CatBoostClassifier at 0x1f0d6b3e48>"
      ]
     },
     "execution_count": 88,
     "metadata": {},
     "output_type": "execute_result"
    },
    {
     "name": "stdout",
     "output_type": "stream",
     "text": [
      "err:  0.24761154110800296\n",
      "2 iter\n",
      "Learning rate set to 0.137797\n",
      "0:\tlearn: 0.5115097\ttest: 0.5115097\ttest1: 0.5107237\tbest: 0.5107237 (0)\ttotal: 223ms\tremaining: 3m 42s\n",
      "100:\tlearn: 0.2510100\ttest: 0.2510100\ttest1: 0.2492923\tbest: 0.2492473 (86)\ttotal: 23.5s\tremaining: 3m 29s\n",
      "200:\tlearn: 0.2491564\ttest: 0.2491564\ttest1: 0.2490761\tbest: 0.2490456 (195)\ttotal: 42s\tremaining: 2m 46s\n",
      "Stopped by overfitting detector  (100 iterations wait)\n",
      "\n",
      "bestTest = 0.2490455764\n",
      "bestIteration = 195\n",
      "\n",
      "Shrink model to first 196 iterations.\n"
     ]
    },
    {
     "data": {
      "text/plain": [
       "<catboost.core.CatBoostClassifier at 0x1f187c8dd8>"
      ]
     },
     "execution_count": 88,
     "metadata": {},
     "output_type": "execute_result"
    },
    {
     "name": "stdout",
     "output_type": "stream",
     "text": [
      "err:  0.24904557642250227\n",
      "3 iter\n",
      "Learning rate set to 0.137797\n",
      "0:\tlearn: 0.5130667\ttest: 0.5130667\ttest1: 0.5122895\tbest: 0.5122895 (0)\ttotal: 483ms\tremaining: 8m 2s\n",
      "100:\tlearn: 0.2509320\ttest: 0.2509320\ttest1: 0.2469596\tbest: 0.2469596 (100)\ttotal: 19.5s\tremaining: 2m 53s\n",
      "200:\tlearn: 0.2492311\ttest: 0.2492311\ttest1: 0.2465169\tbest: 0.2464827 (189)\ttotal: 35.8s\tremaining: 2m 22s\n",
      "300:\tlearn: 0.2478480\ttest: 0.2478480\ttest1: 0.2463364\tbest: 0.2463364 (300)\ttotal: 54.2s\tremaining: 2m 5s\n",
      "400:\tlearn: 0.2466516\ttest: 0.2466516\ttest1: 0.2464571\tbest: 0.2463364 (300)\ttotal: 1m 12s\tremaining: 1m 47s\n",
      "Stopped by overfitting detector  (100 iterations wait)\n",
      "\n",
      "bestTest = 0.2463363593\n",
      "bestIteration = 300\n",
      "\n",
      "Shrink model to first 301 iterations.\n"
     ]
    },
    {
     "data": {
      "text/plain": [
       "<catboost.core.CatBoostClassifier at 0x1f0d6b3fd0>"
      ]
     },
     "execution_count": 88,
     "metadata": {},
     "output_type": "execute_result"
    },
    {
     "name": "stdout",
     "output_type": "stream",
     "text": [
      "err:  0.24633635927157851\n",
      "4 iter\n",
      "Learning rate set to 0.137797\n",
      "0:\tlearn: 0.5131187\ttest: 0.5131187\ttest1: 0.5139142\tbest: 0.5139142 (0)\ttotal: 176ms\tremaining: 2m 55s\n",
      "100:\tlearn: 0.2505563\ttest: 0.2505563\ttest1: 0.2542533\tbest: 0.2542533 (100)\ttotal: 17.8s\tremaining: 2m 38s\n",
      "200:\tlearn: 0.2489606\ttest: 0.2489606\ttest1: 0.2538519\tbest: 0.2538446 (189)\ttotal: 33.6s\tremaining: 2m 13s\n",
      "300:\tlearn: 0.2476394\ttest: 0.2476394\ttest1: 0.2537160\tbest: 0.2536825 (284)\ttotal: 49.7s\tremaining: 1m 55s\n",
      "400:\tlearn: 0.2465250\ttest: 0.2465250\ttest1: 0.2535437\tbest: 0.2535437 (400)\ttotal: 1m 5s\tremaining: 1m 37s\n",
      "500:\tlearn: 0.2455330\ttest: 0.2455330\ttest1: 0.2535398\tbest: 0.2534809 (450)\ttotal: 1m 21s\tremaining: 1m 20s\n",
      "Stopped by overfitting detector  (100 iterations wait)\n",
      "\n",
      "bestTest = 0.253480914\n",
      "bestIteration = 450\n",
      "\n",
      "Shrink model to first 451 iterations.\n"
     ]
    },
    {
     "data": {
      "text/plain": [
       "<catboost.core.CatBoostClassifier at 0x1f187c8c18>"
      ]
     },
     "execution_count": 88,
     "metadata": {},
     "output_type": "execute_result"
    },
    {
     "name": "stdout",
     "output_type": "stream",
     "text": [
      "err:  0.25348091398596706\n",
      "5 iter\n",
      "Learning rate set to 0.137797\n",
      "0:\tlearn: 0.5133129\ttest: 0.5133129\ttest1: 0.5137363\tbest: 0.5137363 (0)\ttotal: 208ms\tremaining: 3m 27s\n",
      "100:\tlearn: 0.2505739\ttest: 0.2505739\ttest1: 0.2563574\tbest: 0.2563537 (98)\ttotal: 19.3s\tremaining: 2m 52s\n",
      "200:\tlearn: 0.2488776\ttest: 0.2488776\ttest1: 0.2559505\tbest: 0.2559362 (197)\ttotal: 35.1s\tremaining: 2m 19s\n",
      "300:\tlearn: 0.2475273\ttest: 0.2475273\ttest1: 0.2558050\tbest: 0.2557572 (281)\ttotal: 51s\tremaining: 1m 58s\n",
      "Stopped by overfitting detector  (100 iterations wait)\n",
      "\n",
      "bestTest = 0.2557571766\n",
      "bestIteration = 281\n",
      "\n",
      "Shrink model to first 282 iterations.\n"
     ]
    },
    {
     "data": {
      "text/plain": [
       "<catboost.core.CatBoostClassifier at 0x1f18947940>"
      ]
     },
     "execution_count": 88,
     "metadata": {},
     "output_type": "execute_result"
    },
    {
     "name": "stdout",
     "output_type": "stream",
     "text": [
      "err:  0.25575717656899866\n",
      "6 iter\n",
      "Learning rate set to 0.137797\n",
      "0:\tlearn: 0.5135466\ttest: 0.5135466\ttest1: 0.5127704\tbest: 0.5127704 (0)\ttotal: 198ms\tremaining: 3m 17s\n",
      "100:\tlearn: 0.2509787\ttest: 0.2509787\ttest1: 0.2460229\tbest: 0.2460033 (98)\ttotal: 19.1s\tremaining: 2m 49s\n",
      "200:\tlearn: 0.2493619\ttest: 0.2493619\ttest1: 0.2459142\tbest: 0.2458956 (197)\ttotal: 35.1s\tremaining: 2m 19s\n",
      "Stopped by overfitting detector  (100 iterations wait)\n",
      "\n",
      "bestTest = 0.2458955931\n",
      "bestIteration = 197\n",
      "\n",
      "Shrink model to first 198 iterations.\n"
     ]
    },
    {
     "data": {
      "text/plain": [
       "<catboost.core.CatBoostClassifier at 0x1f1048dba8>"
      ]
     },
     "execution_count": 88,
     "metadata": {},
     "output_type": "execute_result"
    },
    {
     "name": "stdout",
     "output_type": "stream",
     "text": [
      "err:  0.2458955930874792\n",
      "7 iter\n",
      "Learning rate set to 0.137797\n",
      "0:\tlearn: 0.5132917\ttest: 0.5132917\ttest1: 0.5143951\tbest: 0.5143951 (0)\ttotal: 176ms\tremaining: 2m 55s\n",
      "100:\tlearn: 0.2505409\ttest: 0.2505409\ttest1: 0.2557104\tbest: 0.2556461 (93)\ttotal: 18s\tremaining: 2m 40s\n",
      "200:\tlearn: 0.2488383\ttest: 0.2488383\ttest1: 0.2556785\tbest: 0.2556403 (175)\ttotal: 34.2s\tremaining: 2m 15s\n",
      "300:\tlearn: 0.2473618\ttest: 0.2473618\ttest1: 0.2556672\tbest: 0.2556386 (239)\ttotal: 50.4s\tremaining: 1m 57s\n",
      "Stopped by overfitting detector  (100 iterations wait)\n",
      "\n",
      "bestTest = 0.2556385857\n",
      "bestIteration = 239\n",
      "\n",
      "Shrink model to first 240 iterations.\n"
     ]
    },
    {
     "data": {
      "text/plain": [
       "<catboost.core.CatBoostClassifier at 0x1f18947fd0>"
      ]
     },
     "execution_count": 88,
     "metadata": {},
     "output_type": "execute_result"
    },
    {
     "name": "stdout",
     "output_type": "stream",
     "text": [
      "err:  0.25563858570768716\n",
      "8 iter\n",
      "Learning rate set to 0.137797\n",
      "0:\tlearn: 0.5094512\ttest: 0.5094512\ttest1: 0.5087789\tbest: 0.5087789 (0)\ttotal: 174ms\tremaining: 2m 53s\n",
      "100:\tlearn: 0.2507894\ttest: 0.2507894\ttest1: 0.2499875\tbest: 0.2499875 (100)\ttotal: 19s\tremaining: 2m 48s\n",
      "200:\tlearn: 0.2490361\ttest: 0.2490361\ttest1: 0.2497383\tbest: 0.2496771 (189)\ttotal: 35.1s\tremaining: 2m 19s\n",
      "300:\tlearn: 0.2475565\ttest: 0.2475565\ttest1: 0.2496680\tbest: 0.2496181 (289)\ttotal: 52.7s\tremaining: 2m 2s\n",
      "400:\tlearn: 0.2462353\ttest: 0.2462353\ttest1: 0.2496787\tbest: 0.2495454 (365)\ttotal: 1m 9s\tremaining: 1m 44s\n",
      "500:\tlearn: 0.2451712\ttest: 0.2451712\ttest1: 0.2496110\tbest: 0.2495257 (428)\ttotal: 1m 25s\tremaining: 1m 25s\n",
      "Stopped by overfitting detector  (100 iterations wait)\n",
      "\n",
      "bestTest = 0.2495256961\n",
      "bestIteration = 428\n",
      "\n",
      "Shrink model to first 429 iterations.\n"
     ]
    },
    {
     "data": {
      "text/plain": [
       "<catboost.core.CatBoostClassifier at 0x1f10478a20>"
      ]
     },
     "execution_count": 88,
     "metadata": {},
     "output_type": "execute_result"
    },
    {
     "name": "stdout",
     "output_type": "stream",
     "text": [
      "err:  0.24952569612057934\n",
      "9 iter\n",
      "Learning rate set to 0.137797\n",
      "0:\tlearn: 0.5132557\ttest: 0.5132557\ttest1: 0.5140930\tbest: 0.5140930 (0)\ttotal: 189ms\tremaining: 3m 8s\n",
      "100:\tlearn: 0.2506546\ttest: 0.2506546\ttest1: 0.2556966\tbest: 0.2556932 (98)\ttotal: 19.2s\tremaining: 2m 51s\n",
      "200:\tlearn: 0.2489330\ttest: 0.2489330\ttest1: 0.2557899\tbest: 0.2556478 (168)\ttotal: 35.4s\tremaining: 2m 20s\n",
      "Stopped by overfitting detector  (100 iterations wait)\n",
      "\n",
      "bestTest = 0.2556477681\n",
      "bestIteration = 168\n",
      "\n",
      "Shrink model to first 169 iterations.\n"
     ]
    },
    {
     "data": {
      "text/plain": [
       "<catboost.core.CatBoostClassifier at 0x1f5f717438>"
      ]
     },
     "execution_count": 88,
     "metadata": {},
     "output_type": "execute_result"
    },
    {
     "name": "stdout",
     "output_type": "stream",
     "text": [
      "err:  0.2556477680958079\n",
      "10 iter\n",
      "Learning rate set to 0.137797\n",
      "0:\tlearn: 0.5133268\ttest: 0.5133268\ttest1: 0.5123333\tbest: 0.5123333 (0)\ttotal: 201ms\tremaining: 3m 20s\n",
      "100:\tlearn: 0.2507668\ttest: 0.2507668\ttest1: 0.2512847\tbest: 0.2512601 (97)\ttotal: 19.4s\tremaining: 2m 52s\n",
      "200:\tlearn: 0.2491240\ttest: 0.2491240\ttest1: 0.2512322\tbest: 0.2511846 (151)\ttotal: 35.3s\tremaining: 2m 20s\n",
      "300:\tlearn: 0.2476102\ttest: 0.2476102\ttest1: 0.2512803\tbest: 0.2511328 (230)\ttotal: 51.5s\tremaining: 1m 59s\n",
      "Stopped by overfitting detector  (100 iterations wait)\n",
      "\n",
      "bestTest = 0.2511328012\n",
      "bestIteration = 230\n",
      "\n",
      "Shrink model to first 231 iterations.\n"
     ]
    },
    {
     "data": {
      "text/plain": [
       "<catboost.core.CatBoostClassifier at 0x1f5cac5ac8>"
      ]
     },
     "execution_count": 88,
     "metadata": {},
     "output_type": "execute_result"
    },
    {
     "name": "stdout",
     "output_type": "stream",
     "text": [
      "err:  0.2511328011938243\n",
      "11 iter\n",
      "Learning rate set to 0.137797\n",
      "0:\tlearn: 0.5130718\ttest: 0.5130718\ttest1: 0.5129074\tbest: 0.5129074 (0)\ttotal: 247ms\tremaining: 4m 6s\n",
      "100:\tlearn: 0.2506326\ttest: 0.2506326\ttest1: 0.2560889\tbest: 0.2560889 (100)\ttotal: 19.7s\tremaining: 2m 55s\n",
      "200:\tlearn: 0.2489224\ttest: 0.2489224\ttest1: 0.2560855\tbest: 0.2559513 (117)\ttotal: 35.7s\tremaining: 2m 21s\n",
      "Stopped by overfitting detector  (100 iterations wait)\n",
      "\n",
      "bestTest = 0.2559513106\n",
      "bestIteration = 117\n",
      "\n",
      "Shrink model to first 118 iterations.\n"
     ]
    },
    {
     "data": {
      "text/plain": [
       "<catboost.core.CatBoostClassifier at 0x1f0d610ef0>"
      ]
     },
     "execution_count": 88,
     "metadata": {},
     "output_type": "execute_result"
    },
    {
     "name": "stdout",
     "output_type": "stream",
     "text": [
      "err:  0.2559513106095431\n",
      "12 iter\n",
      "Learning rate set to 0.137797\n",
      "0:\tlearn: 0.5114239\ttest: 0.5114239\ttest1: 0.5118505\tbest: 0.5118505 (0)\ttotal: 174ms\tremaining: 2m 53s\n",
      "100:\tlearn: 0.2509055\ttest: 0.2509055\ttest1: 0.2508098\tbest: 0.2508044 (99)\ttotal: 18.6s\tremaining: 2m 45s\n",
      "200:\tlearn: 0.2491408\ttest: 0.2491408\ttest1: 0.2505762\tbest: 0.2505387 (193)\ttotal: 37.6s\tremaining: 2m 29s\n",
      "300:\tlearn: 0.2477527\ttest: 0.2477527\ttest1: 0.2505370\tbest: 0.2504863 (293)\ttotal: 53.5s\tremaining: 2m 4s\n",
      "Stopped by overfitting detector  (100 iterations wait)\n",
      "\n",
      "bestTest = 0.2504862574\n",
      "bestIteration = 293\n",
      "\n",
      "Shrink model to first 294 iterations.\n"
     ]
    },
    {
     "data": {
      "text/plain": [
       "<catboost.core.CatBoostClassifier at 0x1f5f717c18>"
      ]
     },
     "execution_count": 88,
     "metadata": {},
     "output_type": "execute_result"
    },
    {
     "name": "stdout",
     "output_type": "stream",
     "text": [
      "err:  0.25048625735355523\n",
      "13 iter\n",
      "Learning rate set to 0.137797\n",
      "0:\tlearn: 0.5122607\ttest: 0.5122607\ttest1: 0.5117581\tbest: 0.5117581 (0)\ttotal: 197ms\tremaining: 3m 17s\n",
      "100:\tlearn: 0.2509078\ttest: 0.2509078\ttest1: 0.2520095\tbest: 0.2520095 (100)\ttotal: 19.7s\tremaining: 2m 55s\n",
      "200:\tlearn: 0.2490606\ttest: 0.2490606\ttest1: 0.2515989\tbest: 0.2515630 (196)\ttotal: 37.5s\tremaining: 2m 28s\n",
      "300:\tlearn: 0.2476551\ttest: 0.2476551\ttest1: 0.2515176\tbest: 0.2514897 (234)\ttotal: 57.3s\tremaining: 2m 13s\n",
      "Stopped by overfitting detector  (100 iterations wait)\n",
      "\n",
      "bestTest = 0.2514896533\n",
      "bestIteration = 234\n",
      "\n",
      "Shrink model to first 235 iterations.\n"
     ]
    },
    {
     "data": {
      "text/plain": [
       "<catboost.core.CatBoostClassifier at 0x1f10bbd7f0>"
      ]
     },
     "execution_count": 88,
     "metadata": {},
     "output_type": "execute_result"
    },
    {
     "name": "stdout",
     "output_type": "stream",
     "text": [
      "err:  0.2514896533006486\n",
      "14 iter\n",
      "Learning rate set to 0.137797\n",
      "0:\tlearn: 0.5111059\ttest: 0.5111059\ttest1: 0.5118799\tbest: 0.5118799 (0)\ttotal: 200ms\tremaining: 3m 19s\n",
      "100:\tlearn: 0.2507049\ttest: 0.2507049\ttest1: 0.2542146\tbest: 0.2542146 (100)\ttotal: 22.2s\tremaining: 3m 17s\n",
      "200:\tlearn: 0.2490485\ttest: 0.2490485\ttest1: 0.2538988\tbest: 0.2538307 (170)\ttotal: 38.7s\tremaining: 2m 33s\n",
      "300:\tlearn: 0.2476994\ttest: 0.2476994\ttest1: 0.2538292\tbest: 0.2537272 (285)\ttotal: 54.6s\tremaining: 2m 6s\n",
      "Stopped by overfitting detector  (100 iterations wait)\n",
      "\n",
      "bestTest = 0.2537271515\n",
      "bestIteration = 285\n",
      "\n",
      "Shrink model to first 286 iterations.\n"
     ]
    },
    {
     "data": {
      "text/plain": [
       "<catboost.core.CatBoostClassifier at 0x1f0d6106a0>"
      ]
     },
     "execution_count": 88,
     "metadata": {},
     "output_type": "execute_result"
    },
    {
     "name": "stdout",
     "output_type": "stream",
     "text": [
      "err:  0.2537271515064176\n",
      "15 iter\n",
      "Learning rate set to 0.137797\n",
      "0:\tlearn: 0.5090135\ttest: 0.5090135\ttest1: 0.5107425\tbest: 0.5107425 (0)\ttotal: 193ms\tremaining: 3m 12s\n",
      "100:\tlearn: 0.2506899\ttest: 0.2506899\ttest1: 0.2535321\tbest: 0.2535321 (100)\ttotal: 19.7s\tremaining: 2m 55s\n",
      "200:\tlearn: 0.2490424\ttest: 0.2490424\ttest1: 0.2532310\tbest: 0.2532174 (196)\ttotal: 38s\tremaining: 2m 30s\n",
      "300:\tlearn: 0.2476275\ttest: 0.2476275\ttest1: 0.2530607\tbest: 0.2530607 (300)\ttotal: 56.6s\tremaining: 2m 11s\n",
      "400:\tlearn: 0.2465262\ttest: 0.2465262\ttest1: 0.2530376\tbest: 0.2529656 (324)\ttotal: 1m 12s\tremaining: 1m 48s\n",
      "500:\tlearn: 0.2453743\ttest: 0.2453743\ttest1: 0.2530277\tbest: 0.2529504 (438)\ttotal: 1m 28s\tremaining: 1m 27s\n",
      "Stopped by overfitting detector  (100 iterations wait)\n",
      "\n",
      "bestTest = 0.2529503583\n",
      "bestIteration = 438\n",
      "\n",
      "Shrink model to first 439 iterations.\n"
     ]
    },
    {
     "data": {
      "text/plain": [
       "<catboost.core.CatBoostClassifier at 0x1f0d696a58>"
      ]
     },
     "execution_count": 88,
     "metadata": {},
     "output_type": "execute_result"
    },
    {
     "name": "stdout",
     "output_type": "stream",
     "text": [
      "err:  0.2529503582563414\n",
      "16 iter\n",
      "Learning rate set to 0.137797\n",
      "0:\tlearn: 0.5090559\ttest: 0.5090559\ttest1: 0.5092456\tbest: 0.5092456 (0)\ttotal: 169ms\tremaining: 2m 48s\n",
      "100:\tlearn: 0.2506435\ttest: 0.2506435\ttest1: 0.2546314\tbest: 0.2545798 (84)\ttotal: 18s\tremaining: 2m 40s\n",
      "200:\tlearn: 0.2488932\ttest: 0.2488932\ttest1: 0.2543137\tbest: 0.2543137 (200)\ttotal: 33.9s\tremaining: 2m 14s\n",
      "300:\tlearn: 0.2475669\ttest: 0.2475669\ttest1: 0.2542039\tbest: 0.2541008 (277)\ttotal: 50.2s\tremaining: 1m 56s\n",
      "Stopped by overfitting detector  (100 iterations wait)\n",
      "\n",
      "bestTest = 0.2541008488\n",
      "bestIteration = 277\n",
      "\n",
      "Shrink model to first 278 iterations.\n"
     ]
    },
    {
     "data": {
      "text/plain": [
       "<catboost.core.CatBoostClassifier at 0x1f0d6bc240>"
      ]
     },
     "execution_count": 88,
     "metadata": {},
     "output_type": "execute_result"
    },
    {
     "name": "stdout",
     "output_type": "stream",
     "text": [
      "err:  0.2541008487753667\n",
      "17 iter\n",
      "Learning rate set to 0.137797\n",
      "0:\tlearn: 0.5113113\ttest: 0.5113113\ttest1: 0.5115990\tbest: 0.5115990 (0)\ttotal: 167ms\tremaining: 2m 46s\n",
      "100:\tlearn: 0.2507571\ttest: 0.2507571\ttest1: 0.2529633\tbest: 0.2529633 (100)\ttotal: 17.7s\tremaining: 2m 37s\n",
      "200:\tlearn: 0.2490135\ttest: 0.2490135\ttest1: 0.2528746\tbest: 0.2528605 (194)\ttotal: 33.7s\tremaining: 2m 14s\n",
      "300:\tlearn: 0.2476895\ttest: 0.2476895\ttest1: 0.2527951\tbest: 0.2527932 (299)\ttotal: 49.5s\tremaining: 1m 54s\n",
      "400:\tlearn: 0.2464095\ttest: 0.2464095\ttest1: 0.2527510\tbest: 0.2526964 (356)\ttotal: 1m 5s\tremaining: 1m 37s\n",
      "Stopped by overfitting detector  (100 iterations wait)\n",
      "\n",
      "bestTest = 0.2526964017\n",
      "bestIteration = 356\n",
      "\n",
      "Shrink model to first 357 iterations.\n"
     ]
    },
    {
     "data": {
      "text/plain": [
       "<catboost.core.CatBoostClassifier at 0x1f0d610860>"
      ]
     },
     "execution_count": 88,
     "metadata": {},
     "output_type": "execute_result"
    },
    {
     "name": "stdout",
     "output_type": "stream",
     "text": [
      "err:  0.2526964017448457\n",
      "18 iter\n",
      "Learning rate set to 0.137797\n",
      "0:\tlearn: 0.5090230\ttest: 0.5090230\ttest1: 0.5110932\tbest: 0.5110932 (0)\ttotal: 153ms\tremaining: 2m 33s\n",
      "100:\tlearn: 0.2503388\ttest: 0.2503388\ttest1: 0.2606138\tbest: 0.2605976 (95)\ttotal: 18s\tremaining: 2m 40s\n",
      "200:\tlearn: 0.2486351\ttest: 0.2486351\ttest1: 0.2607343\tbest: 0.2605567 (120)\ttotal: 36.4s\tremaining: 2m 24s\n",
      "Stopped by overfitting detector  (100 iterations wait)\n",
      "\n",
      "bestTest = 0.2605566848\n",
      "bestIteration = 120\n",
      "\n",
      "Shrink model to first 121 iterations.\n"
     ]
    },
    {
     "data": {
      "text/plain": [
       "<catboost.core.CatBoostClassifier at 0x1f5f717c18>"
      ]
     },
     "execution_count": 88,
     "metadata": {},
     "output_type": "execute_result"
    },
    {
     "name": "stdout",
     "output_type": "stream",
     "text": [
      "err:  0.2605566848058612\n",
      "19 iter\n",
      "Learning rate set to 0.137797\n",
      "0:\tlearn: 0.5130179\ttest: 0.5130179\ttest1: 0.5120365\tbest: 0.5120365 (0)\ttotal: 192ms\tremaining: 3m 12s\n",
      "100:\tlearn: 0.2508398\ttest: 0.2508398\ttest1: 0.2496026\tbest: 0.2495990 (99)\ttotal: 19.1s\tremaining: 2m 50s\n",
      "200:\tlearn: 0.2490564\ttest: 0.2490564\ttest1: 0.2491853\tbest: 0.2491660 (162)\ttotal: 35.2s\tremaining: 2m 20s\n",
      "300:\tlearn: 0.2477837\ttest: 0.2477837\ttest1: 0.2490078\tbest: 0.2489813 (282)\ttotal: 51s\tremaining: 1m 58s\n",
      "400:\tlearn: 0.2466172\ttest: 0.2466172\ttest1: 0.2490284\tbest: 0.2489029 (318)\ttotal: 1m 6s\tremaining: 1m 39s\n",
      "Stopped by overfitting detector  (100 iterations wait)\n",
      "\n",
      "bestTest = 0.2489028637\n",
      "bestIteration = 318\n",
      "\n",
      "Shrink model to first 319 iterations.\n"
     ]
    },
    {
     "data": {
      "text/plain": [
       "<catboost.core.CatBoostClassifier at 0x1f0d6140f0>"
      ]
     },
     "execution_count": 88,
     "metadata": {},
     "output_type": "execute_result"
    },
    {
     "name": "stdout",
     "output_type": "stream",
     "text": [
      "err:  0.24890286370568707\n",
      "20 iter\n",
      "Learning rate set to 0.137797\n",
      "0:\tlearn: 0.5093805\ttest: 0.5093805\ttest1: 0.5102308\tbest: 0.5102308 (0)\ttotal: 149ms\tremaining: 2m 29s\n",
      "100:\tlearn: 0.2506172\ttest: 0.2506172\ttest1: 0.2547772\tbest: 0.2547772 (100)\ttotal: 18.4s\tremaining: 2m 43s\n",
      "200:\tlearn: 0.2489374\ttest: 0.2489374\ttest1: 0.2544763\tbest: 0.2544212 (152)\ttotal: 37s\tremaining: 2m 27s\n",
      "Stopped by overfitting detector  (100 iterations wait)\n",
      "\n",
      "bestTest = 0.2544212016\n",
      "bestIteration = 152\n",
      "\n",
      "Shrink model to first 153 iterations.\n"
     ]
    },
    {
     "data": {
      "text/plain": [
       "<catboost.core.CatBoostClassifier at 0x1f5cad37f0>"
      ]
     },
     "execution_count": 88,
     "metadata": {},
     "output_type": "execute_result"
    },
    {
     "name": "stdout",
     "output_type": "stream",
     "text": [
      "err:  0.25442120160913406\n",
      "21 iter\n",
      "Learning rate set to 0.137797\n",
      "0:\tlearn: 0.5093094\ttest: 0.5093094\ttest1: 0.5084263\tbest: 0.5084263 (0)\ttotal: 183ms\tremaining: 3m 2s\n",
      "100:\tlearn: 0.2509447\ttest: 0.2509447\ttest1: 0.2454882\tbest: 0.2454724 (99)\ttotal: 19.7s\tremaining: 2m 55s\n",
      "200:\tlearn: 0.2492752\ttest: 0.2492752\ttest1: 0.2453315\tbest: 0.2452698 (183)\ttotal: 36s\tremaining: 2m 23s\n",
      "Stopped by overfitting detector  (100 iterations wait)\n",
      "\n",
      "bestTest = 0.2452697748\n",
      "bestIteration = 183\n",
      "\n",
      "Shrink model to first 184 iterations.\n"
     ]
    },
    {
     "data": {
      "text/plain": [
       "<catboost.core.CatBoostClassifier at 0x1f0d696a58>"
      ]
     },
     "execution_count": 88,
     "metadata": {},
     "output_type": "execute_result"
    },
    {
     "name": "stdout",
     "output_type": "stream",
     "text": [
      "err:  0.24526977478881662\n",
      "22 iter\n",
      "Learning rate set to 0.137797\n",
      "0:\tlearn: 0.5091195\ttest: 0.5091195\ttest1: 0.5084895\tbest: 0.5084895 (0)\ttotal: 220ms\tremaining: 3m 39s\n",
      "100:\tlearn: 0.2509062\ttest: 0.2509062\ttest1: 0.2476080\tbest: 0.2475695 (99)\ttotal: 20.9s\tremaining: 3m 5s\n",
      "200:\tlearn: 0.2492252\ttest: 0.2492252\ttest1: 0.2474258\tbest: 0.2473521 (188)\ttotal: 37.5s\tremaining: 2m 29s\n",
      "300:\tlearn: 0.2478645\ttest: 0.2478645\ttest1: 0.2472439\tbest: 0.2472439 (300)\ttotal: 55.9s\tremaining: 2m 9s\n",
      "400:\tlearn: 0.2466609\ttest: 0.2466609\ttest1: 0.2473749\tbest: 0.2471867 (322)\ttotal: 1m 12s\tremaining: 1m 47s\n",
      "Stopped by overfitting detector  (100 iterations wait)\n",
      "\n",
      "bestTest = 0.2471867407\n",
      "bestIteration = 322\n",
      "\n",
      "Shrink model to first 323 iterations.\n"
     ]
    },
    {
     "data": {
      "text/plain": [
       "<catboost.core.CatBoostClassifier at 0x1f589d1470>"
      ]
     },
     "execution_count": 88,
     "metadata": {},
     "output_type": "execute_result"
    },
    {
     "name": "stdout",
     "output_type": "stream",
     "text": [
      "err:  0.24718674065748922\n",
      "23 iter\n",
      "Learning rate set to 0.137797\n",
      "0:\tlearn: 0.5128012\ttest: 0.5128012\ttest1: 0.5125624\tbest: 0.5125624 (0)\ttotal: 162ms\tremaining: 2m 41s\n",
      "100:\tlearn: 0.2505028\ttest: 0.2505028\ttest1: 0.2574160\tbest: 0.2574160 (100)\ttotal: 17.9s\tremaining: 2m 38s\n",
      "200:\tlearn: 0.2488369\ttest: 0.2488369\ttest1: 0.2572106\tbest: 0.2571228 (155)\ttotal: 34.2s\tremaining: 2m 15s\n",
      "Stopped by overfitting detector  (100 iterations wait)\n",
      "\n",
      "bestTest = 0.2571227547\n",
      "bestIteration = 155\n",
      "\n",
      "Shrink model to first 156 iterations.\n"
     ]
    },
    {
     "data": {
      "text/plain": [
       "<catboost.core.CatBoostClassifier at 0x1f0d614470>"
      ]
     },
     "execution_count": 88,
     "metadata": {},
     "output_type": "execute_result"
    },
    {
     "name": "stdout",
     "output_type": "stream",
     "text": [
      "err:  0.2571227546896069\n",
      "24 iter\n",
      "Learning rate set to 0.137797\n",
      "0:\tlearn: 0.5125811\ttest: 0.5125811\ttest1: 0.5137962\tbest: 0.5137962 (0)\ttotal: 180ms\tremaining: 3m\n",
      "100:\tlearn: 0.2506285\ttest: 0.2506285\ttest1: 0.2559610\tbest: 0.2559610 (100)\ttotal: 19.7s\tremaining: 2m 55s\n",
      "200:\tlearn: 0.2488817\ttest: 0.2488817\ttest1: 0.2560270\tbest: 0.2559447 (103)\ttotal: 37.6s\tremaining: 2m 29s\n",
      "Stopped by overfitting detector  (100 iterations wait)\n",
      "\n",
      "bestTest = 0.2559447335\n",
      "bestIteration = 103\n",
      "\n",
      "Shrink model to first 104 iterations.\n"
     ]
    },
    {
     "data": {
      "text/plain": [
       "<catboost.core.CatBoostClassifier at 0x1f0d6ad6d8>"
      ]
     },
     "execution_count": 88,
     "metadata": {},
     "output_type": "execute_result"
    },
    {
     "name": "stdout",
     "output_type": "stream",
     "text": [
      "err:  0.2559447334508798\n",
      "25 iter\n",
      "Learning rate set to 0.137797\n",
      "0:\tlearn: 0.5127269\ttest: 0.5127269\ttest1: 0.5108666\tbest: 0.5108666 (0)\ttotal: 242ms\tremaining: 4m 1s\n",
      "100:\tlearn: 0.2508848\ttest: 0.2508848\ttest1: 0.2483940\tbest: 0.2483940 (100)\ttotal: 20.9s\tremaining: 3m 6s\n",
      "200:\tlearn: 0.2493418\ttest: 0.2493418\ttest1: 0.2482886\tbest: 0.2482032 (146)\ttotal: 37s\tremaining: 2m 27s\n",
      "300:\tlearn: 0.2478151\ttest: 0.2478151\ttest1: 0.2481083\tbest: 0.2480436 (277)\ttotal: 53.6s\tremaining: 2m 4s\n",
      "Stopped by overfitting detector  (100 iterations wait)\n",
      "\n",
      "bestTest = 0.2480436365\n",
      "bestIteration = 277\n",
      "\n",
      "Shrink model to first 278 iterations.\n"
     ]
    },
    {
     "data": {
      "text/plain": [
       "<catboost.core.CatBoostClassifier at 0x1f0d608f60>"
      ]
     },
     "execution_count": 88,
     "metadata": {},
     "output_type": "execute_result"
    },
    {
     "name": "stdout",
     "output_type": "stream",
     "text": [
      "err:  0.24804363650294955\n"
     ]
    },
    {
     "data": {
      "text/plain": [
       "0.2519568953327828"
      ]
     },
     "execution_count": 88,
     "metadata": {},
     "output_type": "execute_result"
    }
   ],
   "source": [
    "errcb1=[]\n",
    "y_pred_totcb1=[]\n",
    "fold=KFold(n_splits=25)#25\n",
    "i=1\n",
    "for train_index, test_index in fold.split(train,y):\n",
    "    print(str(i) + ' iter')\n",
    "    X_train, X_test = train.iloc[train_index], train.iloc[test_index]\n",
    "    y_train, y_test = y.iloc[train_index], y.iloc[test_index]\n",
    "    m1  = CatBoostClassifier(n_estimators=1000,eval_metric='Logloss',random_seed= 10, use_best_model=True)\n",
    "    m1.fit(X_train,y_train,eval_set=[(X_train,y_train),(X_test, y_test)], early_stopping_rounds=100,verbose=100)\n",
    "    preds=m1.predict_proba(X_test)[:,1]\n",
    "    print(\"err: \",log_loss(y_test,preds))\n",
    "    errcb1.append((log_loss(y_test,preds)))\n",
    "    p1 = m1.predict_proba(test)[:,1]\n",
    "    y_pred_totcb1.append(p1)\n",
    "    i+=1\n",
    "np.mean(errcb1)"
   ]
  },
  {
   "cell_type": "code",
   "execution_count": 89,
   "metadata": {},
   "outputs": [],
   "source": [
    "cat_sub = sample.copy()"
   ]
  },
  {
   "cell_type": "code",
   "execution_count": 91,
   "metadata": {},
   "outputs": [],
   "source": [
    "cat_sub.CHURN = np.mean(y_pred_totcb1, axis=0)"
   ]
  },
  {
   "cell_type": "code",
   "execution_count": 92,
   "metadata": {},
   "outputs": [],
   "source": [
    "cat_sub.to_csv('25KFold_Cat.csv', index = False)"
   ]
  },
  {
   "cell_type": "markdown",
   "metadata": {},
   "source": [
    "3-StratKFold Catboost model"
   ]
  },
  {
   "cell_type": "code",
   "execution_count": 93,
   "metadata": {
    "scrolled": true
   },
   "outputs": [
    {
     "data": {
      "text/plain": [
       "((400000, 160), (100000, 160), (400000,))"
      ]
     },
     "execution_count": 93,
     "metadata": {},
     "output_type": "execute_result"
    }
   ],
   "source": [
    "train.shape, test.shape, y.shape"
   ]
  },
  {
   "cell_type": "code",
   "execution_count": 63,
   "metadata": {},
   "outputs": [],
   "source": [
    "sc = StandardScaler()"
   ]
  },
  {
   "cell_type": "code",
   "execution_count": 105,
   "metadata": {
    "scrolled": true
   },
   "outputs": [
    {
     "name": "stdout",
     "output_type": "stream",
     "text": [
      "1 iter\n",
      "Learning rate set to 0.170244\n",
      "0:\tlearn: 0.4812967\ttest: 0.4812967\ttest1: 0.4806269\tbest: 0.4806269 (0)\ttotal: 117ms\tremaining: 58.2s\n",
      "100:\tlearn: 0.2494701\ttest: 0.2494701\ttest1: 0.2528859\tbest: 0.2528859 (100)\ttotal: 12.6s\tremaining: 49.8s\n",
      "200:\tlearn: 0.2471093\ttest: 0.2471093\ttest1: 0.2528639\tbest: 0.2528156 (154)\ttotal: 25s\tremaining: 37.1s\n",
      "300:\tlearn: 0.2450455\ttest: 0.2450455\ttest1: 0.2529669\tbest: 0.2528156 (154)\ttotal: 35.9s\tremaining: 23.8s\n",
      "400:\tlearn: 0.2430554\ttest: 0.2430554\ttest1: 0.2531818\tbest: 0.2528156 (154)\ttotal: 47.9s\tremaining: 11.8s\n",
      "Stopped by overfitting detector  (300 iterations wait)\n",
      "\n",
      "bestTest = 0.2528155906\n",
      "bestIteration = 154\n",
      "\n",
      "Shrink model to first 155 iterations.\n"
     ]
    },
    {
     "data": {
      "text/plain": [
       "<catboost.core.CatBoostClassifier at 0x1f103cfb70>"
      ]
     },
     "execution_count": 105,
     "metadata": {},
     "output_type": "execute_result"
    },
    {
     "name": "stdout",
     "output_type": "stream",
     "text": [
      "err:  0.2528155906037959\n",
      "2 iter\n",
      "Learning rate set to 0.170244\n",
      "0:\tlearn: 0.4784894\ttest: 0.4784894\ttest1: 0.4789028\tbest: 0.4789028 (0)\ttotal: 264ms\tremaining: 2m 11s\n",
      "100:\tlearn: 0.2498448\ttest: 0.2498448\ttest1: 0.2522361\tbest: 0.2522234 (98)\ttotal: 12.9s\tremaining: 51.1s\n",
      "200:\tlearn: 0.2475281\ttest: 0.2475281\ttest1: 0.2521749\tbest: 0.2521719 (147)\ttotal: 25.5s\tremaining: 38s\n",
      "300:\tlearn: 0.2456093\ttest: 0.2456093\ttest1: 0.2522623\tbest: 0.2521564 (239)\ttotal: 39.5s\tremaining: 26.1s\n",
      "400:\tlearn: 0.2437155\ttest: 0.2437155\ttest1: 0.2525340\tbest: 0.2521564 (239)\ttotal: 51.2s\tremaining: 12.6s\n",
      "499:\tlearn: 0.2421210\ttest: 0.2421210\ttest1: 0.2527871\tbest: 0.2521564 (239)\ttotal: 1m 2s\tremaining: 0us\n",
      "\n",
      "bestTest = 0.2521564189\n",
      "bestIteration = 239\n",
      "\n",
      "Shrink model to first 240 iterations.\n"
     ]
    },
    {
     "data": {
      "text/plain": [
       "<catboost.core.CatBoostClassifier at 0x1f10afefd0>"
      ]
     },
     "execution_count": 105,
     "metadata": {},
     "output_type": "execute_result"
    },
    {
     "name": "stdout",
     "output_type": "stream",
     "text": [
      "err:  0.2521564188803394\n",
      "3 iter\n",
      "Learning rate set to 0.170244\n",
      "0:\tlearn: 0.4718606\ttest: 0.4718606\ttest1: 0.4721915\tbest: 0.4721915 (0)\ttotal: 151ms\tremaining: 1m 15s\n",
      "100:\tlearn: 0.2499391\ttest: 0.2499391\ttest1: 0.2522131\tbest: 0.2522131 (100)\ttotal: 13.1s\tremaining: 51.7s\n",
      "200:\tlearn: 0.2477287\ttest: 0.2477287\ttest1: 0.2520730\tbest: 0.2520730 (200)\ttotal: 25.3s\tremaining: 37.6s\n",
      "300:\tlearn: 0.2456626\ttest: 0.2456626\ttest1: 0.2522210\tbest: 0.2520457 (211)\ttotal: 37.1s\tremaining: 24.5s\n",
      "400:\tlearn: 0.2437305\ttest: 0.2437305\ttest1: 0.2524362\tbest: 0.2520457 (211)\ttotal: 49s\tremaining: 12.1s\n",
      "499:\tlearn: 0.2420665\ttest: 0.2420665\ttest1: 0.2526516\tbest: 0.2520457 (211)\ttotal: 1m 1s\tremaining: 0us\n",
      "\n",
      "bestTest = 0.2520456985\n",
      "bestIteration = 211\n",
      "\n",
      "Shrink model to first 212 iterations.\n"
     ]
    },
    {
     "data": {
      "text/plain": [
       "<catboost.core.CatBoostClassifier at 0x1f0d6ac588>"
      ]
     },
     "execution_count": 105,
     "metadata": {},
     "output_type": "execute_result"
    },
    {
     "name": "stdout",
     "output_type": "stream",
     "text": [
      "err:  0.2520456984589125\n"
     ]
    },
    {
     "data": {
      "text/plain": [
       "0.25233923598101593"
      ]
     },
     "execution_count": 105,
     "metadata": {},
     "output_type": "execute_result"
    }
   ],
   "source": [
    "errcb2=[]\n",
    "y_pred_totcb2=[]\n",
    "fold = StratifiedKFold(n_splits=3, shuffle= True, random_state= 0)#5\n",
    "i=1\n",
    "for train_index, test_index in fold.split(train,y):\n",
    "    print(str(i) + ' iter')\n",
    "    X_train, X_test = train.iloc[train_index], train.iloc[test_index]\n",
    "    y_train, y_test = y.iloc[train_index], y.iloc[test_index]\n",
    "    \n",
    "    X_train = sc.fit_transform(X_train)\n",
    "    X_test = sc.transform(X_test)\n",
    "    X_pred = sc.transform(test)\n",
    "    \n",
    "    m2 = CatBoostClassifier(n_estimators=500,eval_metric='Logloss',random_seed= 10, use_best_model=True)\n",
    "    m2.fit(X_train,y_train,eval_set=[(X_train,y_train),(X_test, y_test)], early_stopping_rounds=300,verbose=100)\n",
    "    preds=m2.predict_proba(X_test)[:,1]\n",
    "    print(\"err: \",log_loss(y_test,preds))\n",
    "    errcb2.append((log_loss(y_test,preds)))\n",
    "    p2 = m2.predict_proba(X_pred)[:,1]\n",
    "    y_pred_totcb2.append(p2)\n",
    "    i+=1\n",
    "np.mean(errcb2)"
   ]
  },
  {
   "cell_type": "code",
   "execution_count": 106,
   "metadata": {},
   "outputs": [],
   "source": [
    "cat_1_sub = sample.copy()"
   ]
  },
  {
   "cell_type": "code",
   "execution_count": 107,
   "metadata": {},
   "outputs": [],
   "source": [
    "cat_1_sub.CHURN = np.mean(y_pred_totcb2, axis=0)"
   ]
  },
  {
   "cell_type": "code",
   "execution_count": 108,
   "metadata": {},
   "outputs": [],
   "source": [
    "#cat_1_sub.to_csv('3STRATKFold_Cat.csv', index = False) # early 100"
   ]
  },
  {
   "cell_type": "code",
   "execution_count": 109,
   "metadata": {},
   "outputs": [],
   "source": [
    "cat_1_sub.to_csv('3STRATKFold_Cat3scaled.csv', index = False)# early 300"
   ]
  },
  {
   "cell_type": "code",
   "execution_count": null,
   "metadata": {},
   "outputs": [],
   "source": []
  },
  {
   "cell_type": "markdown",
   "metadata": {},
   "source": [
    "25-KFold Xgbboost"
   ]
  },
  {
   "cell_type": "code",
   "execution_count": 92,
   "metadata": {},
   "outputs": [
    {
     "name": "stdout",
     "output_type": "stream",
     "text": [
      "1 iter\n",
      "[0]\tvalidation_0-logloss:0.52151\tvalidation_1-logloss:0.52123\n",
      "Multiple eval metrics have been passed: 'validation_1-logloss' will be used for early stopping.\n",
      "\n",
      "Will train until validation_1-logloss hasn't improved in 100 rounds.\n",
      "[100]\tvalidation_0-logloss:0.24283\tvalidation_1-logloss:0.24865\n",
      "Stopping. Best iteration:\n",
      "[53]\tvalidation_0-logloss:0.24612\tvalidation_1-logloss:0.24774\n",
      "\n"
     ]
    },
    {
     "data": {
      "text/plain": [
       "XGBClassifier(base_score=0.5, booster=None, colsample_bylevel=1,\n",
       "              colsample_bynode=1, colsample_bytree=1, eval_metric='logloss',\n",
       "              gamma=0, gpu_id=-1, importance_type='gain',\n",
       "              interaction_constraints=None, learning_rate=0.300000012,\n",
       "              max_delta_step=0, max_depth=6, min_child_weight=1, missing=nan,\n",
       "              monotone_constraints=None, n_estimators=1000, n_jobs=0,\n",
       "              num_parallel_tree=1, random_seed=10, random_state=0, reg_alpha=0,\n",
       "              reg_lambda=1, scale_pos_weight=1, subsample=1, tree_method=None,\n",
       "              use_best_model=True, validate_parameters=False, verbosity=None)"
      ]
     },
     "execution_count": 92,
     "metadata": {},
     "output_type": "execute_result"
    },
    {
     "name": "stdout",
     "output_type": "stream",
     "text": [
      "err:  0.2477421123352524\n",
      "2 iter\n",
      "[0]\tvalidation_0-logloss:0.52149\tvalidation_1-logloss:0.52101\n",
      "Multiple eval metrics have been passed: 'validation_1-logloss' will be used for early stopping.\n",
      "\n",
      "Will train until validation_1-logloss hasn't improved in 100 rounds.\n",
      "[100]\tvalidation_0-logloss:0.24201\tvalidation_1-logloss:0.25107\n",
      "Stopping. Best iteration:\n",
      "[21]\tvalidation_0-logloss:0.24913\tvalidation_1-logloss:0.25018\n",
      "\n"
     ]
    },
    {
     "data": {
      "text/plain": [
       "XGBClassifier(base_score=0.5, booster=None, colsample_bylevel=1,\n",
       "              colsample_bynode=1, colsample_bytree=1, eval_metric='logloss',\n",
       "              gamma=0, gpu_id=-1, importance_type='gain',\n",
       "              interaction_constraints=None, learning_rate=0.300000012,\n",
       "              max_delta_step=0, max_depth=6, min_child_weight=1, missing=nan,\n",
       "              monotone_constraints=None, n_estimators=1000, n_jobs=0,\n",
       "              num_parallel_tree=1, random_seed=10, random_state=0, reg_alpha=0,\n",
       "              reg_lambda=1, scale_pos_weight=1, subsample=1, tree_method=None,\n",
       "              use_best_model=True, validate_parameters=False, verbosity=None)"
      ]
     },
     "execution_count": 92,
     "metadata": {},
     "output_type": "execute_result"
    },
    {
     "name": "stdout",
     "output_type": "stream",
     "text": [
      "err:  0.25017494368712506\n",
      "3 iter\n",
      "[0]\tvalidation_0-logloss:0.52156\tvalidation_1-logloss:0.52068\n",
      "Multiple eval metrics have been passed: 'validation_1-logloss' will be used for early stopping.\n",
      "\n",
      "Will train until validation_1-logloss hasn't improved in 100 rounds.\n",
      "[100]\tvalidation_0-logloss:0.24290\tvalidation_1-logloss:0.24705\n",
      "Stopping. Best iteration:\n",
      "[70]\tvalidation_0-logloss:0.24502\tvalidation_1-logloss:0.24694\n",
      "\n"
     ]
    },
    {
     "data": {
      "text/plain": [
       "XGBClassifier(base_score=0.5, booster=None, colsample_bylevel=1,\n",
       "              colsample_bynode=1, colsample_bytree=1, eval_metric='logloss',\n",
       "              gamma=0, gpu_id=-1, importance_type='gain',\n",
       "              interaction_constraints=None, learning_rate=0.300000012,\n",
       "              max_delta_step=0, max_depth=6, min_child_weight=1, missing=nan,\n",
       "              monotone_constraints=None, n_estimators=1000, n_jobs=0,\n",
       "              num_parallel_tree=1, random_seed=10, random_state=0, reg_alpha=0,\n",
       "              reg_lambda=1, scale_pos_weight=1, subsample=1, tree_method=None,\n",
       "              use_best_model=True, validate_parameters=False, verbosity=None)"
      ]
     },
     "execution_count": 92,
     "metadata": {},
     "output_type": "execute_result"
    },
    {
     "name": "stdout",
     "output_type": "stream",
     "text": [
      "err:  0.24694448021781137\n",
      "4 iter\n",
      "[0]\tvalidation_0-logloss:0.52156\tvalidation_1-logloss:0.52261\n",
      "Multiple eval metrics have been passed: 'validation_1-logloss' will be used for early stopping.\n",
      "\n",
      "Will train until validation_1-logloss hasn't improved in 100 rounds.\n",
      "[100]\tvalidation_0-logloss:0.24222\tvalidation_1-logloss:0.25444\n",
      "Stopping. Best iteration:\n",
      "[50]\tvalidation_0-logloss:0.24591\tvalidation_1-logloss:0.25396\n",
      "\n"
     ]
    },
    {
     "data": {
      "text/plain": [
       "XGBClassifier(base_score=0.5, booster=None, colsample_bylevel=1,\n",
       "              colsample_bynode=1, colsample_bytree=1, eval_metric='logloss',\n",
       "              gamma=0, gpu_id=-1, importance_type='gain',\n",
       "              interaction_constraints=None, learning_rate=0.300000012,\n",
       "              max_delta_step=0, max_depth=6, min_child_weight=1, missing=nan,\n",
       "              monotone_constraints=None, n_estimators=1000, n_jobs=0,\n",
       "              num_parallel_tree=1, random_seed=10, random_state=0, reg_alpha=0,\n",
       "              reg_lambda=1, scale_pos_weight=1, subsample=1, tree_method=None,\n",
       "              use_best_model=True, validate_parameters=False, verbosity=None)"
      ]
     },
     "execution_count": 92,
     "metadata": {},
     "output_type": "execute_result"
    },
    {
     "name": "stdout",
     "output_type": "stream",
     "text": [
      "err:  0.2539574174433892\n",
      "5 iter\n",
      "[0]\tvalidation_0-logloss:0.52138\tvalidation_1-logloss:0.52232\n",
      "Multiple eval metrics have been passed: 'validation_1-logloss' will be used for early stopping.\n",
      "\n",
      "Will train until validation_1-logloss hasn't improved in 100 rounds.\n",
      "[100]\tvalidation_0-logloss:0.24197\tvalidation_1-logloss:0.25692\n",
      "Stopping. Best iteration:\n",
      "[63]\tvalidation_0-logloss:0.24472\tvalidation_1-logloss:0.25627\n",
      "\n"
     ]
    },
    {
     "data": {
      "text/plain": [
       "XGBClassifier(base_score=0.5, booster=None, colsample_bylevel=1,\n",
       "              colsample_bynode=1, colsample_bytree=1, eval_metric='logloss',\n",
       "              gamma=0, gpu_id=-1, importance_type='gain',\n",
       "              interaction_constraints=None, learning_rate=0.300000012,\n",
       "              max_delta_step=0, max_depth=6, min_child_weight=1, missing=nan,\n",
       "              monotone_constraints=None, n_estimators=1000, n_jobs=0,\n",
       "              num_parallel_tree=1, random_seed=10, random_state=0, reg_alpha=0,\n",
       "              reg_lambda=1, scale_pos_weight=1, subsample=1, tree_method=None,\n",
       "              use_best_model=True, validate_parameters=False, verbosity=None)"
      ]
     },
     "execution_count": 92,
     "metadata": {},
     "output_type": "execute_result"
    },
    {
     "name": "stdout",
     "output_type": "stream",
     "text": [
      "err:  0.2562694803016337\n",
      "6 iter\n",
      "[0]\tvalidation_0-logloss:0.52166\tvalidation_1-logloss:0.52056\n",
      "Multiple eval metrics have been passed: 'validation_1-logloss' will be used for early stopping.\n",
      "\n",
      "Will train until validation_1-logloss hasn't improved in 100 rounds.\n",
      "[100]\tvalidation_0-logloss:0.24284\tvalidation_1-logloss:0.24673\n",
      "Stopping. Best iteration:\n",
      "[45]\tvalidation_0-logloss:0.24685\tvalidation_1-logloss:0.24607\n",
      "\n"
     ]
    },
    {
     "data": {
      "text/plain": [
       "XGBClassifier(base_score=0.5, booster=None, colsample_bylevel=1,\n",
       "              colsample_bynode=1, colsample_bytree=1, eval_metric='logloss',\n",
       "              gamma=0, gpu_id=-1, importance_type='gain',\n",
       "              interaction_constraints=None, learning_rate=0.300000012,\n",
       "              max_delta_step=0, max_depth=6, min_child_weight=1, missing=nan,\n",
       "              monotone_constraints=None, n_estimators=1000, n_jobs=0,\n",
       "              num_parallel_tree=1, random_seed=10, random_state=0, reg_alpha=0,\n",
       "              reg_lambda=1, scale_pos_weight=1, subsample=1, tree_method=None,\n",
       "              use_best_model=True, validate_parameters=False, verbosity=None)"
      ]
     },
     "execution_count": 92,
     "metadata": {},
     "output_type": "execute_result"
    },
    {
     "name": "stdout",
     "output_type": "stream",
     "text": [
      "err:  0.2460720073108737\n",
      "7 iter\n",
      "[0]\tvalidation_0-logloss:0.52141\tvalidation_1-logloss:0.52278\n",
      "Multiple eval metrics have been passed: 'validation_1-logloss' will be used for early stopping.\n",
      "\n",
      "Will train until validation_1-logloss hasn't improved in 100 rounds.\n",
      "[100]\tvalidation_0-logloss:0.24225\tvalidation_1-logloss:0.25659\n",
      "Stopping. Best iteration:\n",
      "[29]\tvalidation_0-logloss:0.24772\tvalidation_1-logloss:0.25584\n",
      "\n"
     ]
    },
    {
     "data": {
      "text/plain": [
       "XGBClassifier(base_score=0.5, booster=None, colsample_bylevel=1,\n",
       "              colsample_bynode=1, colsample_bytree=1, eval_metric='logloss',\n",
       "              gamma=0, gpu_id=-1, importance_type='gain',\n",
       "              interaction_constraints=None, learning_rate=0.300000012,\n",
       "              max_delta_step=0, max_depth=6, min_child_weight=1, missing=nan,\n",
       "              monotone_constraints=None, n_estimators=1000, n_jobs=0,\n",
       "              num_parallel_tree=1, random_seed=10, random_state=0, reg_alpha=0,\n",
       "              reg_lambda=1, scale_pos_weight=1, subsample=1, tree_method=None,\n",
       "              use_best_model=True, validate_parameters=False, verbosity=None)"
      ]
     },
     "execution_count": 92,
     "metadata": {},
     "output_type": "execute_result"
    },
    {
     "name": "stdout",
     "output_type": "stream",
     "text": [
      "err:  0.2558384589061143\n",
      "8 iter\n",
      "[0]\tvalidation_0-logloss:0.52153\tvalidation_1-logloss:0.52077\n",
      "Multiple eval metrics have been passed: 'validation_1-logloss' will be used for early stopping.\n",
      "\n",
      "Will train until validation_1-logloss hasn't improved in 100 rounds.\n",
      "[100]\tvalidation_0-logloss:0.24251\tvalidation_1-logloss:0.25110\n",
      "Stopping. Best iteration:\n",
      "[33]\tvalidation_0-logloss:0.24756\tvalidation_1-logloss:0.25041\n",
      "\n"
     ]
    },
    {
     "data": {
      "text/plain": [
       "XGBClassifier(base_score=0.5, booster=None, colsample_bylevel=1,\n",
       "              colsample_bynode=1, colsample_bytree=1, eval_metric='logloss',\n",
       "              gamma=0, gpu_id=-1, importance_type='gain',\n",
       "              interaction_constraints=None, learning_rate=0.300000012,\n",
       "              max_delta_step=0, max_depth=6, min_child_weight=1, missing=nan,\n",
       "              monotone_constraints=None, n_estimators=1000, n_jobs=0,\n",
       "              num_parallel_tree=1, random_seed=10, random_state=0, reg_alpha=0,\n",
       "              reg_lambda=1, scale_pos_weight=1, subsample=1, tree_method=None,\n",
       "              use_best_model=True, validate_parameters=False, verbosity=None)"
      ]
     },
     "execution_count": 92,
     "metadata": {},
     "output_type": "execute_result"
    },
    {
     "name": "stdout",
     "output_type": "stream",
     "text": [
      "err:  0.25041528107444083\n",
      "9 iter\n",
      "[0]\tvalidation_0-logloss:0.52153\tvalidation_1-logloss:0.52268\n",
      "Multiple eval metrics have been passed: 'validation_1-logloss' will be used for early stopping.\n",
      "\n",
      "Will train until validation_1-logloss hasn't improved in 100 rounds.\n",
      "[100]\tvalidation_0-logloss:0.24212\tvalidation_1-logloss:0.25651\n",
      "Stopping. Best iteration:\n",
      "[27]\tvalidation_0-logloss:0.24798\tvalidation_1-logloss:0.25562\n",
      "\n"
     ]
    },
    {
     "data": {
      "text/plain": [
       "XGBClassifier(base_score=0.5, booster=None, colsample_bylevel=1,\n",
       "              colsample_bynode=1, colsample_bytree=1, eval_metric='logloss',\n",
       "              gamma=0, gpu_id=-1, importance_type='gain',\n",
       "              interaction_constraints=None, learning_rate=0.300000012,\n",
       "              max_delta_step=0, max_depth=6, min_child_weight=1, missing=nan,\n",
       "              monotone_constraints=None, n_estimators=1000, n_jobs=0,\n",
       "              num_parallel_tree=1, random_seed=10, random_state=0, reg_alpha=0,\n",
       "              reg_lambda=1, scale_pos_weight=1, subsample=1, tree_method=None,\n",
       "              use_best_model=True, validate_parameters=False, verbosity=None)"
      ]
     },
     "execution_count": 92,
     "metadata": {},
     "output_type": "execute_result"
    },
    {
     "name": "stdout",
     "output_type": "stream",
     "text": [
      "err:  0.2556176037781206\n",
      "10 iter\n",
      "[0]\tvalidation_0-logloss:0.52161\tvalidation_1-logloss:0.52089\n",
      "Multiple eval metrics have been passed: 'validation_1-logloss' will be used for early stopping.\n",
      "\n",
      "Will train until validation_1-logloss hasn't improved in 100 rounds.\n",
      "[100]\tvalidation_0-logloss:0.24249\tvalidation_1-logloss:0.25160\n",
      "Stopping. Best iteration:\n",
      "[20]\tvalidation_0-logloss:0.24926\tvalidation_1-logloss:0.25100\n",
      "\n"
     ]
    },
    {
     "data": {
      "text/plain": [
       "XGBClassifier(base_score=0.5, booster=None, colsample_bylevel=1,\n",
       "              colsample_bynode=1, colsample_bytree=1, eval_metric='logloss',\n",
       "              gamma=0, gpu_id=-1, importance_type='gain',\n",
       "              interaction_constraints=None, learning_rate=0.300000012,\n",
       "              max_delta_step=0, max_depth=6, min_child_weight=1, missing=nan,\n",
       "              monotone_constraints=None, n_estimators=1000, n_jobs=0,\n",
       "              num_parallel_tree=1, random_seed=10, random_state=0, reg_alpha=0,\n",
       "              reg_lambda=1, scale_pos_weight=1, subsample=1, tree_method=None,\n",
       "              use_best_model=True, validate_parameters=False, verbosity=None)"
      ]
     },
     "execution_count": 92,
     "metadata": {},
     "output_type": "execute_result"
    },
    {
     "name": "stdout",
     "output_type": "stream",
     "text": [
      "err:  0.25099704589983596\n",
      "11 iter\n",
      "[0]\tvalidation_0-logloss:0.52146\tvalidation_1-logloss:0.52209\n",
      "Multiple eval metrics have been passed: 'validation_1-logloss' will be used for early stopping.\n",
      "\n",
      "Will train until validation_1-logloss hasn't improved in 100 rounds.\n",
      "[100]\tvalidation_0-logloss:0.24216\tvalidation_1-logloss:0.25754\n",
      "Stopping. Best iteration:\n",
      "[32]\tvalidation_0-logloss:0.24735\tvalidation_1-logloss:0.25672\n",
      "\n"
     ]
    },
    {
     "data": {
      "text/plain": [
       "XGBClassifier(base_score=0.5, booster=None, colsample_bylevel=1,\n",
       "              colsample_bynode=1, colsample_bytree=1, eval_metric='logloss',\n",
       "              gamma=0, gpu_id=-1, importance_type='gain',\n",
       "              interaction_constraints=None, learning_rate=0.300000012,\n",
       "              max_delta_step=0, max_depth=6, min_child_weight=1, missing=nan,\n",
       "              monotone_constraints=None, n_estimators=1000, n_jobs=0,\n",
       "              num_parallel_tree=1, random_seed=10, random_state=0, reg_alpha=0,\n",
       "              reg_lambda=1, scale_pos_weight=1, subsample=1, tree_method=None,\n",
       "              use_best_model=True, validate_parameters=False, verbosity=None)"
      ]
     },
     "execution_count": 92,
     "metadata": {},
     "output_type": "execute_result"
    },
    {
     "name": "stdout",
     "output_type": "stream",
     "text": [
      "err:  0.25671924978490096\n",
      "12 iter\n",
      "[0]\tvalidation_0-logloss:0.52154\tvalidation_1-logloss:0.52225\n",
      "Multiple eval metrics have been passed: 'validation_1-logloss' will be used for early stopping.\n",
      "\n",
      "Will train until validation_1-logloss hasn't improved in 100 rounds.\n",
      "[100]\tvalidation_0-logloss:0.24232\tvalidation_1-logloss:0.25117\n",
      "Stopping. Best iteration:\n",
      "[38]\tvalidation_0-logloss:0.24710\tvalidation_1-logloss:0.25079\n",
      "\n"
     ]
    },
    {
     "data": {
      "text/plain": [
       "XGBClassifier(base_score=0.5, booster=None, colsample_bylevel=1,\n",
       "              colsample_bynode=1, colsample_bytree=1, eval_metric='logloss',\n",
       "              gamma=0, gpu_id=-1, importance_type='gain',\n",
       "              interaction_constraints=None, learning_rate=0.300000012,\n",
       "              max_delta_step=0, max_depth=6, min_child_weight=1, missing=nan,\n",
       "              monotone_constraints=None, n_estimators=1000, n_jobs=0,\n",
       "              num_parallel_tree=1, random_seed=10, random_state=0, reg_alpha=0,\n",
       "              reg_lambda=1, scale_pos_weight=1, subsample=1, tree_method=None,\n",
       "              use_best_model=True, validate_parameters=False, verbosity=None)"
      ]
     },
     "execution_count": 92,
     "metadata": {},
     "output_type": "execute_result"
    },
    {
     "name": "stdout",
     "output_type": "stream",
     "text": [
      "err:  0.250789519010606\n",
      "13 iter\n",
      "[0]\tvalidation_0-logloss:0.52150\tvalidation_1-logloss:0.52163\n",
      "Multiple eval metrics have been passed: 'validation_1-logloss' will be used for early stopping.\n",
      "\n",
      "Will train until validation_1-logloss hasn't improved in 100 rounds.\n",
      "[100]\tvalidation_0-logloss:0.24286\tvalidation_1-logloss:0.25245\n",
      "Stopping. Best iteration:\n",
      "[37]\tvalidation_0-logloss:0.24737\tvalidation_1-logloss:0.25183\n",
      "\n"
     ]
    },
    {
     "data": {
      "text/plain": [
       "XGBClassifier(base_score=0.5, booster=None, colsample_bylevel=1,\n",
       "              colsample_bynode=1, colsample_bytree=1, eval_metric='logloss',\n",
       "              gamma=0, gpu_id=-1, importance_type='gain',\n",
       "              interaction_constraints=None, learning_rate=0.300000012,\n",
       "              max_delta_step=0, max_depth=6, min_child_weight=1, missing=nan,\n",
       "              monotone_constraints=None, n_estimators=1000, n_jobs=0,\n",
       "              num_parallel_tree=1, random_seed=10, random_state=0, reg_alpha=0,\n",
       "              reg_lambda=1, scale_pos_weight=1, subsample=1, tree_method=None,\n",
       "              use_best_model=True, validate_parameters=False, verbosity=None)"
      ]
     },
     "execution_count": 92,
     "metadata": {},
     "output_type": "execute_result"
    },
    {
     "name": "stdout",
     "output_type": "stream",
     "text": [
      "err:  0.2518332332585455\n",
      "14 iter\n",
      "[0]\tvalidation_0-logloss:0.52149\tvalidation_1-logloss:0.52247\n",
      "Multiple eval metrics have been passed: 'validation_1-logloss' will be used for early stopping.\n",
      "\n",
      "Will train until validation_1-logloss hasn't improved in 100 rounds.\n",
      "[100]\tvalidation_0-logloss:0.24175\tvalidation_1-logloss:0.25468\n",
      "Stopping. Best iteration:\n",
      "[48]\tvalidation_0-logloss:0.24573\tvalidation_1-logloss:0.25423\n",
      "\n"
     ]
    },
    {
     "data": {
      "text/plain": [
       "XGBClassifier(base_score=0.5, booster=None, colsample_bylevel=1,\n",
       "              colsample_bynode=1, colsample_bytree=1, eval_metric='logloss',\n",
       "              gamma=0, gpu_id=-1, importance_type='gain',\n",
       "              interaction_constraints=None, learning_rate=0.300000012,\n",
       "              max_delta_step=0, max_depth=6, min_child_weight=1, missing=nan,\n",
       "              monotone_constraints=None, n_estimators=1000, n_jobs=0,\n",
       "              num_parallel_tree=1, random_seed=10, random_state=0, reg_alpha=0,\n",
       "              reg_lambda=1, scale_pos_weight=1, subsample=1, tree_method=None,\n",
       "              use_best_model=True, validate_parameters=False, verbosity=None)"
      ]
     },
     "execution_count": 92,
     "metadata": {},
     "output_type": "execute_result"
    },
    {
     "name": "stdout",
     "output_type": "stream",
     "text": [
      "err:  0.2542267733505432\n",
      "15 iter\n",
      "[0]\tvalidation_0-logloss:0.52153\tvalidation_1-logloss:0.52241\n",
      "Multiple eval metrics have been passed: 'validation_1-logloss' will be used for early stopping.\n",
      "\n",
      "Will train until validation_1-logloss hasn't improved in 100 rounds.\n",
      "[100]\tvalidation_0-logloss:0.24224\tvalidation_1-logloss:0.25357\n",
      "Stopping. Best iteration:\n",
      "[44]\tvalidation_0-logloss:0.24643\tvalidation_1-logloss:0.25302\n",
      "\n"
     ]
    },
    {
     "data": {
      "text/plain": [
       "XGBClassifier(base_score=0.5, booster=None, colsample_bylevel=1,\n",
       "              colsample_bynode=1, colsample_bytree=1, eval_metric='logloss',\n",
       "              gamma=0, gpu_id=-1, importance_type='gain',\n",
       "              interaction_constraints=None, learning_rate=0.300000012,\n",
       "              max_delta_step=0, max_depth=6, min_child_weight=1, missing=nan,\n",
       "              monotone_constraints=None, n_estimators=1000, n_jobs=0,\n",
       "              num_parallel_tree=1, random_seed=10, random_state=0, reg_alpha=0,\n",
       "              reg_lambda=1, scale_pos_weight=1, subsample=1, tree_method=None,\n",
       "              use_best_model=True, validate_parameters=False, verbosity=None)"
      ]
     },
     "execution_count": 92,
     "metadata": {},
     "output_type": "execute_result"
    },
    {
     "name": "stdout",
     "output_type": "stream",
     "text": [
      "err:  0.25301954090111123\n",
      "16 iter\n",
      "[0]\tvalidation_0-logloss:0.52144\tvalidation_1-logloss:0.52199\n",
      "Multiple eval metrics have been passed: 'validation_1-logloss' will be used for early stopping.\n",
      "\n",
      "Will train until validation_1-logloss hasn't improved in 100 rounds.\n",
      "[100]\tvalidation_0-logloss:0.24205\tvalidation_1-logloss:0.25527\n",
      "Stopping. Best iteration:\n",
      "[21]\tvalidation_0-logloss:0.24893\tvalidation_1-logloss:0.25475\n",
      "\n"
     ]
    },
    {
     "data": {
      "text/plain": [
       "XGBClassifier(base_score=0.5, booster=None, colsample_bylevel=1,\n",
       "              colsample_bynode=1, colsample_bytree=1, eval_metric='logloss',\n",
       "              gamma=0, gpu_id=-1, importance_type='gain',\n",
       "              interaction_constraints=None, learning_rate=0.300000012,\n",
       "              max_delta_step=0, max_depth=6, min_child_weight=1, missing=nan,\n",
       "              monotone_constraints=None, n_estimators=1000, n_jobs=0,\n",
       "              num_parallel_tree=1, random_seed=10, random_state=0, reg_alpha=0,\n",
       "              reg_lambda=1, scale_pos_weight=1, subsample=1, tree_method=None,\n",
       "              use_best_model=True, validate_parameters=False, verbosity=None)"
      ]
     },
     "execution_count": 92,
     "metadata": {},
     "output_type": "execute_result"
    },
    {
     "name": "stdout",
     "output_type": "stream",
     "text": [
      "err:  0.25475056091607984\n",
      "17 iter\n",
      "[0]\tvalidation_0-logloss:0.52152\tvalidation_1-logloss:0.52217\n",
      "Multiple eval metrics have been passed: 'validation_1-logloss' will be used for early stopping.\n",
      "\n",
      "Will train until validation_1-logloss hasn't improved in 100 rounds.\n",
      "[100]\tvalidation_0-logloss:0.24222\tvalidation_1-logloss:0.25441\n",
      "Stopping. Best iteration:\n",
      "[26]\tvalidation_0-logloss:0.24813\tvalidation_1-logloss:0.25340\n",
      "\n"
     ]
    },
    {
     "data": {
      "text/plain": [
       "XGBClassifier(base_score=0.5, booster=None, colsample_bylevel=1,\n",
       "              colsample_bynode=1, colsample_bytree=1, eval_metric='logloss',\n",
       "              gamma=0, gpu_id=-1, importance_type='gain',\n",
       "              interaction_constraints=None, learning_rate=0.300000012,\n",
       "              max_delta_step=0, max_depth=6, min_child_weight=1, missing=nan,\n",
       "              monotone_constraints=None, n_estimators=1000, n_jobs=0,\n",
       "              num_parallel_tree=1, random_seed=10, random_state=0, reg_alpha=0,\n",
       "              reg_lambda=1, scale_pos_weight=1, subsample=1, tree_method=None,\n",
       "              use_best_model=True, validate_parameters=False, verbosity=None)"
      ]
     },
     "execution_count": 92,
     "metadata": {},
     "output_type": "execute_result"
    },
    {
     "name": "stdout",
     "output_type": "stream",
     "text": [
      "err:  0.2534001376785391\n",
      "18 iter\n",
      "[0]\tvalidation_0-logloss:0.52137\tvalidation_1-logloss:0.52390\n",
      "Multiple eval metrics have been passed: 'validation_1-logloss' will be used for early stopping.\n",
      "\n",
      "Will train until validation_1-logloss hasn't improved in 100 rounds.\n",
      "[100]\tvalidation_0-logloss:0.24177\tvalidation_1-logloss:0.26280\n",
      "Stopping. Best iteration:\n",
      "[19]\tvalidation_0-logloss:0.24908\tvalidation_1-logloss:0.26162\n",
      "\n"
     ]
    },
    {
     "data": {
      "text/plain": [
       "XGBClassifier(base_score=0.5, booster=None, colsample_bylevel=1,\n",
       "              colsample_bynode=1, colsample_bytree=1, eval_metric='logloss',\n",
       "              gamma=0, gpu_id=-1, importance_type='gain',\n",
       "              interaction_constraints=None, learning_rate=0.300000012,\n",
       "              max_delta_step=0, max_depth=6, min_child_weight=1, missing=nan,\n",
       "              monotone_constraints=None, n_estimators=1000, n_jobs=0,\n",
       "              num_parallel_tree=1, random_seed=10, random_state=0, reg_alpha=0,\n",
       "              reg_lambda=1, scale_pos_weight=1, subsample=1, tree_method=None,\n",
       "              use_best_model=True, validate_parameters=False, verbosity=None)"
      ]
     },
     "execution_count": 92,
     "metadata": {},
     "output_type": "execute_result"
    },
    {
     "name": "stdout",
     "output_type": "stream",
     "text": [
      "err:  0.2616204976667068\n",
      "19 iter\n",
      "[0]\tvalidation_0-logloss:0.52134\tvalidation_1-logloss:0.52159\n",
      "Multiple eval metrics have been passed: 'validation_1-logloss' will be used for early stopping.\n",
      "\n",
      "Will train until validation_1-logloss hasn't improved in 100 rounds.\n",
      "[100]\tvalidation_0-logloss:0.24257\tvalidation_1-logloss:0.25041\n",
      "Stopping. Best iteration:\n",
      "[35]\tvalidation_0-logloss:0.24707\tvalidation_1-logloss:0.24968\n",
      "\n"
     ]
    },
    {
     "data": {
      "text/plain": [
       "XGBClassifier(base_score=0.5, booster=None, colsample_bylevel=1,\n",
       "              colsample_bynode=1, colsample_bytree=1, eval_metric='logloss',\n",
       "              gamma=0, gpu_id=-1, importance_type='gain',\n",
       "              interaction_constraints=None, learning_rate=0.300000012,\n",
       "              max_delta_step=0, max_depth=6, min_child_weight=1, missing=nan,\n",
       "              monotone_constraints=None, n_estimators=1000, n_jobs=0,\n",
       "              num_parallel_tree=1, random_seed=10, random_state=0, reg_alpha=0,\n",
       "              reg_lambda=1, scale_pos_weight=1, subsample=1, tree_method=None,\n",
       "              use_best_model=True, validate_parameters=False, verbosity=None)"
      ]
     },
     "execution_count": 92,
     "metadata": {},
     "output_type": "execute_result"
    },
    {
     "name": "stdout",
     "output_type": "stream",
     "text": [
      "err:  0.24968241698421342\n",
      "20 iter\n",
      "[0]\tvalidation_0-logloss:0.52148\tvalidation_1-logloss:0.52277\n",
      "Multiple eval metrics have been passed: 'validation_1-logloss' will be used for early stopping.\n",
      "\n",
      "Will train until validation_1-logloss hasn't improved in 100 rounds.\n",
      "[100]\tvalidation_0-logloss:0.24196\tvalidation_1-logloss:0.25626\n",
      "Stopping. Best iteration:\n",
      "[20]\tvalidation_0-logloss:0.24914\tvalidation_1-logloss:0.25532\n",
      "\n"
     ]
    },
    {
     "data": {
      "text/plain": [
       "XGBClassifier(base_score=0.5, booster=None, colsample_bylevel=1,\n",
       "              colsample_bynode=1, colsample_bytree=1, eval_metric='logloss',\n",
       "              gamma=0, gpu_id=-1, importance_type='gain',\n",
       "              interaction_constraints=None, learning_rate=0.300000012,\n",
       "              max_delta_step=0, max_depth=6, min_child_weight=1, missing=nan,\n",
       "              monotone_constraints=None, n_estimators=1000, n_jobs=0,\n",
       "              num_parallel_tree=1, random_seed=10, random_state=0, reg_alpha=0,\n",
       "              reg_lambda=1, scale_pos_weight=1, subsample=1, tree_method=None,\n",
       "              use_best_model=True, validate_parameters=False, verbosity=None)"
      ]
     },
     "execution_count": 92,
     "metadata": {},
     "output_type": "execute_result"
    },
    {
     "name": "stdout",
     "output_type": "stream",
     "text": [
      "err:  0.2553223284971827\n",
      "21 iter\n",
      "[0]\tvalidation_0-logloss:0.52161\tvalidation_1-logloss:0.52046\n",
      "Multiple eval metrics have been passed: 'validation_1-logloss' will be used for early stopping.\n",
      "\n",
      "Will train until validation_1-logloss hasn't improved in 100 rounds.\n",
      "[100]\tvalidation_0-logloss:0.24273\tvalidation_1-logloss:0.24692\n",
      "Stopping. Best iteration:\n",
      "[32]\tvalidation_0-logloss:0.24799\tvalidation_1-logloss:0.24575\n",
      "\n"
     ]
    },
    {
     "data": {
      "text/plain": [
       "XGBClassifier(base_score=0.5, booster=None, colsample_bylevel=1,\n",
       "              colsample_bynode=1, colsample_bytree=1, eval_metric='logloss',\n",
       "              gamma=0, gpu_id=-1, importance_type='gain',\n",
       "              interaction_constraints=None, learning_rate=0.300000012,\n",
       "              max_delta_step=0, max_depth=6, min_child_weight=1, missing=nan,\n",
       "              monotone_constraints=None, n_estimators=1000, n_jobs=0,\n",
       "              num_parallel_tree=1, random_seed=10, random_state=0, reg_alpha=0,\n",
       "              reg_lambda=1, scale_pos_weight=1, subsample=1, tree_method=None,\n",
       "              use_best_model=True, validate_parameters=False, verbosity=None)"
      ]
     },
     "execution_count": 92,
     "metadata": {},
     "output_type": "execute_result"
    },
    {
     "name": "stdout",
     "output_type": "stream",
     "text": [
      "err:  0.24575115844339962\n",
      "22 iter\n",
      "[0]\tvalidation_0-logloss:0.52158\tvalidation_1-logloss:0.52060\n",
      "Multiple eval metrics have been passed: 'validation_1-logloss' will be used for early stopping.\n",
      "\n",
      "Will train until validation_1-logloss hasn't improved in 100 rounds.\n",
      "[100]\tvalidation_0-logloss:0.24272\tvalidation_1-logloss:0.24808\n",
      "Stopping. Best iteration:\n",
      "[25]\tvalidation_0-logloss:0.24863\tvalidation_1-logloss:0.24762\n",
      "\n"
     ]
    },
    {
     "data": {
      "text/plain": [
       "XGBClassifier(base_score=0.5, booster=None, colsample_bylevel=1,\n",
       "              colsample_bynode=1, colsample_bytree=1, eval_metric='logloss',\n",
       "              gamma=0, gpu_id=-1, importance_type='gain',\n",
       "              interaction_constraints=None, learning_rate=0.300000012,\n",
       "              max_delta_step=0, max_depth=6, min_child_weight=1, missing=nan,\n",
       "              monotone_constraints=None, n_estimators=1000, n_jobs=0,\n",
       "              num_parallel_tree=1, random_seed=10, random_state=0, reg_alpha=0,\n",
       "              reg_lambda=1, scale_pos_weight=1, subsample=1, tree_method=None,\n",
       "              use_best_model=True, validate_parameters=False, verbosity=None)"
      ]
     },
     "execution_count": 92,
     "metadata": {},
     "output_type": "execute_result"
    },
    {
     "name": "stdout",
     "output_type": "stream",
     "text": [
      "err:  0.247615525015186\n",
      "23 iter\n",
      "[0]\tvalidation_0-logloss:0.52127\tvalidation_1-logloss:0.52307\n",
      "Multiple eval metrics have been passed: 'validation_1-logloss' will be used for early stopping.\n",
      "\n",
      "Will train until validation_1-logloss hasn't improved in 100 rounds.\n",
      "[100]\tvalidation_0-logloss:0.24184\tvalidation_1-logloss:0.25853\n",
      "Stopping. Best iteration:\n",
      "[51]\tvalidation_0-logloss:0.24579\tvalidation_1-logloss:0.25784\n",
      "\n"
     ]
    },
    {
     "data": {
      "text/plain": [
       "XGBClassifier(base_score=0.5, booster=None, colsample_bylevel=1,\n",
       "              colsample_bynode=1, colsample_bytree=1, eval_metric='logloss',\n",
       "              gamma=0, gpu_id=-1, importance_type='gain',\n",
       "              interaction_constraints=None, learning_rate=0.300000012,\n",
       "              max_delta_step=0, max_depth=6, min_child_weight=1, missing=nan,\n",
       "              monotone_constraints=None, n_estimators=1000, n_jobs=0,\n",
       "              num_parallel_tree=1, random_seed=10, random_state=0, reg_alpha=0,\n",
       "              reg_lambda=1, scale_pos_weight=1, subsample=1, tree_method=None,\n",
       "              use_best_model=True, validate_parameters=False, verbosity=None)"
      ]
     },
     "execution_count": 92,
     "metadata": {},
     "output_type": "execute_result"
    },
    {
     "name": "stdout",
     "output_type": "stream",
     "text": [
      "err:  0.25784438840227925\n",
      "24 iter\n",
      "[0]\tvalidation_0-logloss:0.52132\tvalidation_1-logloss:0.52274\n",
      "Multiple eval metrics have been passed: 'validation_1-logloss' will be used for early stopping.\n",
      "\n",
      "Will train until validation_1-logloss hasn't improved in 100 rounds.\n",
      "[100]\tvalidation_0-logloss:0.24174\tvalidation_1-logloss:0.25684\n",
      "Stopping. Best iteration:\n",
      "[30]\tvalidation_0-logloss:0.24734\tvalidation_1-logloss:0.25625\n",
      "\n"
     ]
    },
    {
     "data": {
      "text/plain": [
       "XGBClassifier(base_score=0.5, booster=None, colsample_bylevel=1,\n",
       "              colsample_bynode=1, colsample_bytree=1, eval_metric='logloss',\n",
       "              gamma=0, gpu_id=-1, importance_type='gain',\n",
       "              interaction_constraints=None, learning_rate=0.300000012,\n",
       "              max_delta_step=0, max_depth=6, min_child_weight=1, missing=nan,\n",
       "              monotone_constraints=None, n_estimators=1000, n_jobs=0,\n",
       "              num_parallel_tree=1, random_seed=10, random_state=0, reg_alpha=0,\n",
       "              reg_lambda=1, scale_pos_weight=1, subsample=1, tree_method=None,\n",
       "              use_best_model=True, validate_parameters=False, verbosity=None)"
      ]
     },
     "execution_count": 92,
     "metadata": {},
     "output_type": "execute_result"
    },
    {
     "name": "stdout",
     "output_type": "stream",
     "text": [
      "err:  0.2562502689226876\n",
      "25 iter\n",
      "[0]\tvalidation_0-logloss:0.52160\tvalidation_1-logloss:0.52038\n",
      "Multiple eval metrics have been passed: 'validation_1-logloss' will be used for early stopping.\n",
      "\n",
      "Will train until validation_1-logloss hasn't improved in 100 rounds.\n",
      "[100]\tvalidation_0-logloss:0.24257\tvalidation_1-logloss:0.24899\n",
      "Stopping. Best iteration:\n",
      "[54]\tvalidation_0-logloss:0.24593\tvalidation_1-logloss:0.24850\n",
      "\n"
     ]
    },
    {
     "data": {
      "text/plain": [
       "XGBClassifier(base_score=0.5, booster=None, colsample_bylevel=1,\n",
       "              colsample_bynode=1, colsample_bytree=1, eval_metric='logloss',\n",
       "              gamma=0, gpu_id=-1, importance_type='gain',\n",
       "              interaction_constraints=None, learning_rate=0.300000012,\n",
       "              max_delta_step=0, max_depth=6, min_child_weight=1, missing=nan,\n",
       "              monotone_constraints=None, n_estimators=1000, n_jobs=0,\n",
       "              num_parallel_tree=1, random_seed=10, random_state=0, reg_alpha=0,\n",
       "              reg_lambda=1, scale_pos_weight=1, subsample=1, tree_method=None,\n",
       "              use_best_model=True, validate_parameters=False, verbosity=None)"
      ]
     },
     "execution_count": 92,
     "metadata": {},
     "output_type": "execute_result"
    },
    {
     "name": "stdout",
     "output_type": "stream",
     "text": [
      "err:  0.24849955794200967\n"
     ]
    },
    {
     "data": {
      "text/plain": [
       "0.2524541595091435"
      ]
     },
     "execution_count": 92,
     "metadata": {},
     "output_type": "execute_result"
    }
   ],
   "source": [
    "errcb3=[]\n",
    "y_pred_totcb3=[]\n",
    "fold=KFold(n_splits=25)#25\n",
    "i=1\n",
    "for train_index, test_index in fold.split(train,y):\n",
    "    print(str(i) + ' iter')\n",
    "    X_train, X_test = train.iloc[train_index], train.iloc[test_index]\n",
    "    y_train, y_test = y.iloc[train_index], y.iloc[test_index]\n",
    "    m3  = XGBClassifier(n_estimators=1000,random_seed = 10, use_best_model=True, eval_metric = 'logloss')\n",
    "    m3.fit(X_train,y_train,eval_set=[(X_train,y_train),(X_test, y_test)], early_stopping_rounds=100,verbose=100)\n",
    "    preds=m3.predict_proba(X_test)[:,1]\n",
    "    print(\"err: \",log_loss(y_test,preds))\n",
    "    errcb3.append((log_loss(y_test,preds)))\n",
    "    p3 = m3.predict_proba(test)[:,1]\n",
    "    y_pred_totcb3.append(p3)\n",
    "    i+=1\n",
    "np.mean(errcb3)"
   ]
  },
  {
   "cell_type": "code",
   "execution_count": 93,
   "metadata": {},
   "outputs": [],
   "source": [
    "xgb_sub = sample.copy()"
   ]
  },
  {
   "cell_type": "code",
   "execution_count": 94,
   "metadata": {},
   "outputs": [],
   "source": [
    "xgb_sub.CHURN = np.mean(y_pred_totcb3, axis=0)"
   ]
  },
  {
   "cell_type": "code",
   "execution_count": 95,
   "metadata": {},
   "outputs": [],
   "source": [
    "xgb_sub.to_csv('25KFold_Xgb.csv', index = False)"
   ]
  },
  {
   "cell_type": "markdown",
   "metadata": {},
   "source": [
    "3-StratKFold Xgbboost model"
   ]
  },
  {
   "cell_type": "code",
   "execution_count": 55,
   "metadata": {},
   "outputs": [
    {
     "data": {
      "text/plain": [
       "((400000, 160), (100000, 160), (400000,))"
      ]
     },
     "execution_count": 55,
     "metadata": {},
     "output_type": "execute_result"
    }
   ],
   "source": [
    "train.shape, test.shape, y.shape"
   ]
  },
  {
   "cell_type": "code",
   "execution_count": 64,
   "metadata": {
    "scrolled": true
   },
   "outputs": [
    {
     "name": "stdout",
     "output_type": "stream",
     "text": [
      "1 iter\n",
      "[0]\tvalidation_0-logloss:0.52145\tvalidation_1-logloss:0.52172\n",
      "Multiple eval metrics have been passed: 'validation_1-logloss' will be used for early stopping.\n",
      "\n",
      "Will train until validation_1-logloss hasn't improved in 100 rounds.\n",
      "[100]\tvalidation_0-logloss:0.23891\tvalidation_1-logloss:0.25469\n",
      "Stopping. Best iteration:\n",
      "[26]\tvalidation_0-logloss:0.24664\tvalidation_1-logloss:0.25354\n",
      "\n"
     ]
    },
    {
     "data": {
      "text/plain": [
       "XGBClassifier(base_score=0.5, booster=None, colsample_bylevel=1,\n",
       "              colsample_bynode=1, colsample_bytree=1, eval_metric='logloss',\n",
       "              gamma=0, gpu_id=-1, importance_type='gain',\n",
       "              interaction_constraints=None, learning_rate=0.300000012,\n",
       "              max_delta_step=0, max_depth=6, min_child_weight=1, missing=nan,\n",
       "              monotone_constraints=None, n_estimators=1000, n_jobs=0,\n",
       "              num_parallel_tree=1, random_seed=10, random_state=0, reg_alpha=0,\n",
       "              reg_lambda=1, scale_pos_weight=1, subsample=1, tree_method=None,\n",
       "              use_best_model=True, validate_parameters=False, verbosity=None)"
      ]
     },
     "execution_count": 64,
     "metadata": {},
     "output_type": "execute_result"
    },
    {
     "name": "stdout",
     "output_type": "stream",
     "text": [
      "err:  0.25353394341942115\n",
      "2 iter\n",
      "[0]\tvalidation_0-logloss:0.52148\tvalidation_1-logloss:0.52206\n",
      "Multiple eval metrics have been passed: 'validation_1-logloss' will be used for early stopping.\n",
      "\n",
      "Will train until validation_1-logloss hasn't improved in 100 rounds.\n",
      "[100]\tvalidation_0-logloss:0.23955\tvalidation_1-logloss:0.25370\n",
      "Stopping. Best iteration:\n",
      "[31]\tvalidation_0-logloss:0.24681\tvalidation_1-logloss:0.25280\n",
      "\n"
     ]
    },
    {
     "data": {
      "text/plain": [
       "XGBClassifier(base_score=0.5, booster=None, colsample_bylevel=1,\n",
       "              colsample_bynode=1, colsample_bytree=1, eval_metric='logloss',\n",
       "              gamma=0, gpu_id=-1, importance_type='gain',\n",
       "              interaction_constraints=None, learning_rate=0.300000012,\n",
       "              max_delta_step=0, max_depth=6, min_child_weight=1, missing=nan,\n",
       "              monotone_constraints=None, n_estimators=1000, n_jobs=0,\n",
       "              num_parallel_tree=1, random_seed=10, random_state=0, reg_alpha=0,\n",
       "              reg_lambda=1, scale_pos_weight=1, subsample=1, tree_method=None,\n",
       "              use_best_model=True, validate_parameters=False, verbosity=None)"
      ]
     },
     "execution_count": 64,
     "metadata": {},
     "output_type": "execute_result"
    },
    {
     "name": "stdout",
     "output_type": "stream",
     "text": [
      "err:  0.2528070067666714\n",
      "3 iter\n",
      "[0]\tvalidation_0-logloss:0.52162\tvalidation_1-logloss:0.52193\n",
      "Multiple eval metrics have been passed: 'validation_1-logloss' will be used for early stopping.\n",
      "\n",
      "Will train until validation_1-logloss hasn't improved in 100 rounds.\n",
      "[100]\tvalidation_0-logloss:0.24012\tvalidation_1-logloss:0.25353\n",
      "Stopping. Best iteration:\n",
      "[28]\tvalidation_0-logloss:0.24707\tvalidation_1-logloss:0.25244\n",
      "\n"
     ]
    },
    {
     "data": {
      "text/plain": [
       "XGBClassifier(base_score=0.5, booster=None, colsample_bylevel=1,\n",
       "              colsample_bynode=1, colsample_bytree=1, eval_metric='logloss',\n",
       "              gamma=0, gpu_id=-1, importance_type='gain',\n",
       "              interaction_constraints=None, learning_rate=0.300000012,\n",
       "              max_delta_step=0, max_depth=6, min_child_weight=1, missing=nan,\n",
       "              monotone_constraints=None, n_estimators=1000, n_jobs=0,\n",
       "              num_parallel_tree=1, random_seed=10, random_state=0, reg_alpha=0,\n",
       "              reg_lambda=1, scale_pos_weight=1, subsample=1, tree_method=None,\n",
       "              use_best_model=True, validate_parameters=False, verbosity=None)"
      ]
     },
     "execution_count": 64,
     "metadata": {},
     "output_type": "execute_result"
    },
    {
     "name": "stdout",
     "output_type": "stream",
     "text": [
      "err:  0.25243592398959064\n"
     ]
    },
    {
     "data": {
      "text/plain": [
       "0.25292562472522767"
      ]
     },
     "execution_count": 64,
     "metadata": {},
     "output_type": "execute_result"
    }
   ],
   "source": [
    "errcb4=[]\n",
    "y_pred_totcb4=[]\n",
    "fold = StratifiedKFold(n_splits=3, shuffle= True, random_state= 0)#5\n",
    "i=1\n",
    "for train_index, test_index in fold.split(train,y):\n",
    "    print(str(i) + ' iter')\n",
    "    X_train, X_test = train.iloc[train_index], train.iloc[test_index]\n",
    "    y_train, y_test = y.iloc[train_index], y.iloc[test_index]\n",
    "    \n",
    "    X_train = sc.fit_transform(X_train)\n",
    "    X_test = sc.transform(X_test)\n",
    "    X_pred = sc.transform(test)\n",
    "    \n",
    "    m4 = XGBClassifier(n_estimators=1000,eval_metric='logloss',random_seed= 10, use_best_model=True)\n",
    "    m4.fit(X_train,y_train,eval_set=[(X_train,y_train),(X_test, y_test)], early_stopping_rounds=100,verbose=100)\n",
    "    preds=m4.predict_proba(X_test)[:,1]\n",
    "    print(\"err: \",log_loss(y_test,preds))\n",
    "    errcb4.append((log_loss(y_test,preds)))\n",
    "    p4 = m4.predict_proba(X_pred)[:,1]\n",
    "    y_pred_totcb4.append(p4)\n",
    "    i+=1\n",
    "np.mean(errcb4)"
   ]
  },
  {
   "cell_type": "code",
   "execution_count": 65,
   "metadata": {},
   "outputs": [],
   "source": [
    "xgb_1_sub = sample.copy()"
   ]
  },
  {
   "cell_type": "code",
   "execution_count": 66,
   "metadata": {},
   "outputs": [],
   "source": [
    "xgb_1_sub.CHURN = np.mean(y_pred_totcb4, axis=0)"
   ]
  },
  {
   "cell_type": "code",
   "execution_count": 67,
   "metadata": {},
   "outputs": [],
   "source": [
    "xgb_1_sub.to_csv('3STRATKFold_Xgbscaled.csv', index = False)"
   ]
  },
  {
   "cell_type": "code",
   "execution_count": null,
   "metadata": {},
   "outputs": [],
   "source": []
  },
  {
   "cell_type": "markdown",
   "metadata": {},
   "source": [
    "##### Blending of  predictions"
   ]
  },
  {
   "cell_type": "code",
   "execution_count": 103,
   "metadata": {},
   "outputs": [],
   "source": [
    "best = pd.read_csv('25KFold_Cat.csv')\n",
    "sec = pd.read_csv('25KFold_Xgb.csv')"
   ]
  },
  {
   "cell_type": "code",
   "execution_count": 104,
   "metadata": {},
   "outputs": [],
   "source": [
    "blend = ((sec.CHURN*0.4) + (best.CHURN*0.6))*0.95 + (best.CHURN*0.05)"
   ]
  },
  {
   "cell_type": "code",
   "execution_count": 105,
   "metadata": {},
   "outputs": [],
   "source": [
    "blend_sub = sample.copy()"
   ]
  },
  {
   "cell_type": "code",
   "execution_count": 106,
   "metadata": {},
   "outputs": [],
   "source": [
    "blend_sub.CHURN = blend"
   ]
  },
  {
   "cell_type": "code",
   "execution_count": 107,
   "metadata": {},
   "outputs": [],
   "source": [
    "blend_sub.to_csv('XGB_CAT_blend3.csv', index = False)"
   ]
  },
  {
   "cell_type": "code",
   "execution_count": 108,
   "metadata": {},
   "outputs": [
    {
     "data": {
      "text/html": [
       "<div>\n",
       "<style scoped>\n",
       "    .dataframe tbody tr th:only-of-type {\n",
       "        vertical-align: middle;\n",
       "    }\n",
       "\n",
       "    .dataframe tbody tr th {\n",
       "        vertical-align: top;\n",
       "    }\n",
       "\n",
       "    .dataframe thead th {\n",
       "        text-align: right;\n",
       "    }\n",
       "</style>\n",
       "<table border=\"1\" class=\"dataframe\">\n",
       "  <thead>\n",
       "    <tr style=\"text-align: right;\">\n",
       "      <th></th>\n",
       "      <th>user_id</th>\n",
       "      <th>CHURN</th>\n",
       "    </tr>\n",
       "  </thead>\n",
       "  <tbody>\n",
       "    <tr>\n",
       "      <th>0</th>\n",
       "      <td>af900d87e73b7ff6509d2203df4704a98aa5f2a6</td>\n",
       "      <td>0.783101</td>\n",
       "    </tr>\n",
       "    <tr>\n",
       "      <th>1</th>\n",
       "      <td>5335efd940280b82143272275637d1e65d37eadb</td>\n",
       "      <td>0.639718</td>\n",
       "    </tr>\n",
       "    <tr>\n",
       "      <th>2</th>\n",
       "      <td>a581f4fa08677c26f83f643248c667e241043086</td>\n",
       "      <td>0.133376</td>\n",
       "    </tr>\n",
       "  </tbody>\n",
       "</table>\n",
       "</div>"
      ],
      "text/plain": [
       "                                    user_id     CHURN\n",
       "0  af900d87e73b7ff6509d2203df4704a98aa5f2a6  0.783101\n",
       "1  5335efd940280b82143272275637d1e65d37eadb  0.639718\n",
       "2  a581f4fa08677c26f83f643248c667e241043086  0.133376"
      ]
     },
     "execution_count": 108,
     "metadata": {},
     "output_type": "execute_result"
    }
   ],
   "source": [
    "best.head(3)"
   ]
  },
  {
   "cell_type": "code",
   "execution_count": 109,
   "metadata": {},
   "outputs": [
    {
     "data": {
      "text/html": [
       "<div>\n",
       "<style scoped>\n",
       "    .dataframe tbody tr th:only-of-type {\n",
       "        vertical-align: middle;\n",
       "    }\n",
       "\n",
       "    .dataframe tbody tr th {\n",
       "        vertical-align: top;\n",
       "    }\n",
       "\n",
       "    .dataframe thead th {\n",
       "        text-align: right;\n",
       "    }\n",
       "</style>\n",
       "<table border=\"1\" class=\"dataframe\">\n",
       "  <thead>\n",
       "    <tr style=\"text-align: right;\">\n",
       "      <th></th>\n",
       "      <th>user_id</th>\n",
       "      <th>CHURN</th>\n",
       "    </tr>\n",
       "  </thead>\n",
       "  <tbody>\n",
       "    <tr>\n",
       "      <th>0</th>\n",
       "      <td>af900d87e73b7ff6509d2203df4704a98aa5f2a6</td>\n",
       "      <td>0.781986</td>\n",
       "    </tr>\n",
       "    <tr>\n",
       "      <th>1</th>\n",
       "      <td>5335efd940280b82143272275637d1e65d37eadb</td>\n",
       "      <td>0.646253</td>\n",
       "    </tr>\n",
       "    <tr>\n",
       "      <th>2</th>\n",
       "      <td>a581f4fa08677c26f83f643248c667e241043086</td>\n",
       "      <td>0.127451</td>\n",
       "    </tr>\n",
       "  </tbody>\n",
       "</table>\n",
       "</div>"
      ],
      "text/plain": [
       "                                    user_id     CHURN\n",
       "0  af900d87e73b7ff6509d2203df4704a98aa5f2a6  0.781986\n",
       "1  5335efd940280b82143272275637d1e65d37eadb  0.646253\n",
       "2  a581f4fa08677c26f83f643248c667e241043086  0.127451"
      ]
     },
     "execution_count": 109,
     "metadata": {},
     "output_type": "execute_result"
    }
   ],
   "source": [
    "blend_sub.head(3)"
   ]
  },
  {
   "cell_type": "code",
   "execution_count": null,
   "metadata": {},
   "outputs": [],
   "source": []
  }
 ],
 "metadata": {
  "kernelspec": {
   "display_name": "Python 3",
   "language": "python",
   "name": "python3"
  },
  "language_info": {
   "codemirror_mode": {
    "name": "ipython",
    "version": 3
   },
   "file_extension": ".py",
   "mimetype": "text/x-python",
   "name": "python",
   "nbconvert_exporter": "python",
   "pygments_lexer": "ipython3",
   "version": "3.7.3"
  }
 },
 "nbformat": 4,
 "nbformat_minor": 4
}
